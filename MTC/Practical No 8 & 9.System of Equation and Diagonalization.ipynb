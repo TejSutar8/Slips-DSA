{
 "cells": [
  {
   "cell_type": "code",
   "execution_count": null,
   "id": "1a04383c-893b-4636-8365-af7ff7b668cd",
   "metadata": {},
   "outputs": [],
   "source": [
    "Name: Tej Santosh Sutar\n",
    "RollNo:176\n",
    "Class:S.Y B.Sc CS\n",
    "Batch:H \n",
    "Date:31/08/2024\n",
    "Practical No 6 & 7.Eigen values and Eigen vectors"
   ]
  },
  {
   "cell_type": "raw",
   "id": "5993a7bf-917e-417c-8d52-92719d419ec8",
   "metadata": {},
   "source": [
    "1. Use linsolve command in python to solve the following system of linear equations. \n",
    "      x − 2y + 3z = 7,  2x + y + z = 4, −3x + 2y − 2z = −10"
   ]
  },
  {
   "cell_type": "code",
   "execution_count": 3,
   "id": "37811883-2206-43da-97e3-6d779320f22f",
   "metadata": {},
   "outputs": [],
   "source": [
    "from sympy import*\n",
    "x,y,z=symbols(\"x,y,z\")\n",
    "A=Matrix([[1,-2,3],[2,1,1],[-3,2,-2]])\n",
    "B=Matrix([[7,4,-10]])"
   ]
  },
  {
   "cell_type": "code",
   "execution_count": 5,
   "id": "dd03bc36-6b0a-4b06-9e3e-3a2deb6eb469",
   "metadata": {},
   "outputs": [
    {
     "data": {
      "text/latex": [
       "$\\displaystyle \\left\\{\\left( 2, \\  -1, \\  1\\right)\\right\\}$"
      ],
      "text/plain": [
       "{(2, -1, 1)}"
      ]
     },
     "execution_count": 5,
     "metadata": {},
     "output_type": "execute_result"
    }
   ],
   "source": [
    "linsolve((A,B),[x,y,z])"
   ]
  },
  {
   "cell_type": "raw",
   "id": "34a11a8f-c965-4405-bf3f-821f75ef5ebd",
   "metadata": {},
   "source": [
    "2. Write Python code to find eigenvalues and corresponding eigenvectors of the matrix \n",
    "A=   [1 3 3]\n",
    "     [2 2 3]\n",
    "     [4 2 1]\n",
    "and hence find matrix P with diagonalize to A."
   ]
  },
  {
   "cell_type": "code",
   "execution_count": 7,
   "id": "e62a2528-6c2d-42c7-ac3d-493ce78c0277",
   "metadata": {},
   "outputs": [
    {
     "data": {
      "text/latex": [
       "$\\displaystyle \\left[\\begin{matrix}1 & 3 & 3\\\\2 & 2 & 3\\\\4 & 2 & 1\\end{matrix}\\right]$"
      ],
      "text/plain": [
       "Matrix([\n",
       "[1, 3, 3],\n",
       "[2, 2, 3],\n",
       "[4, 2, 1]])"
      ]
     },
     "execution_count": 7,
     "metadata": {},
     "output_type": "execute_result"
    }
   ],
   "source": [
    "from sympy import*\n",
    "A=Matrix([[1,3,3],[2,2,3],[4,2,1]])\n",
    "A"
   ]
  },
  {
   "cell_type": "code",
   "execution_count": 9,
   "id": "494f68b2-77e8-4a14-9f31-e712a2f2582e",
   "metadata": {},
   "outputs": [
    {
     "data": {
      "text/plain": [
       "{7: 1, -1: 1, -2: 1}"
      ]
     },
     "execution_count": 9,
     "metadata": {},
     "output_type": "execute_result"
    }
   ],
   "source": [
    "A.eigenvals()"
   ]
  },
  {
   "cell_type": "code",
   "execution_count": 11,
   "id": "9b3ef6c5-bb97-42b0-b782-b06a84cb3721",
   "metadata": {},
   "outputs": [
    {
     "data": {
      "text/plain": [
       "[(-2,\n",
       "  1,\n",
       "  [Matrix([\n",
       "   [-1/2],\n",
       "   [-1/2],\n",
       "   [   1]])]),\n",
       " (-1,\n",
       "  1,\n",
       "  [Matrix([\n",
       "   [ 0],\n",
       "   [-1],\n",
       "   [ 1]])]),\n",
       " (7,\n",
       "  1,\n",
       "  [Matrix([\n",
       "   [1],\n",
       "   [1],\n",
       "   [1]])])]"
      ]
     },
     "execution_count": 11,
     "metadata": {},
     "output_type": "execute_result"
    }
   ],
   "source": [
    "A.eigenvects()"
   ]
  },
  {
   "cell_type": "code",
   "execution_count": 31,
   "id": "29f1f7d1-0239-41ea-a666-e1b2e48ae811",
   "metadata": {},
   "outputs": [],
   "source": [
    "P,D=A.diagonalize()"
   ]
  },
  {
   "cell_type": "code",
   "execution_count": 33,
   "id": "33de2f28-d9c2-4d95-88ef-295a0bf05675",
   "metadata": {},
   "outputs": [
    {
     "data": {
      "text/latex": [
       "$\\displaystyle \\left[\\begin{matrix}1 & 2\\\\2 & 3\\end{matrix}\\right]$"
      ],
      "text/plain": [
       "Matrix([\n",
       "[1, 2],\n",
       "[2, 3]])"
      ]
     },
     "execution_count": 33,
     "metadata": {},
     "output_type": "execute_result"
    }
   ],
   "source": [
    "P"
   ]
  },
  {
   "cell_type": "raw",
   "id": "845da7c4-855d-4695-8a4f-4fab6834eb56",
   "metadata": {},
   "source": [
    "3. Write Python code to diagonalize matrix and hence find matrix P and D \n",
    "    A= [ 3 −2]\n",
    "       [6 −4 ] "
   ]
  },
  {
   "cell_type": "code",
   "execution_count": 35,
   "id": "0d7be149-2342-4fcf-aac2-921959e48620",
   "metadata": {},
   "outputs": [
    {
     "data": {
      "text/latex": [
       "$\\displaystyle \\left[\\begin{matrix}3 & -2\\\\6 & -4\\end{matrix}\\right]$"
      ],
      "text/plain": [
       "Matrix([\n",
       "[3, -2],\n",
       "[6, -4]])"
      ]
     },
     "execution_count": 35,
     "metadata": {},
     "output_type": "execute_result"
    }
   ],
   "source": [
    "from sympy import*\n",
    "A=Matrix([[3,-2],[6,-4]])\n",
    "A"
   ]
  },
  {
   "cell_type": "code",
   "execution_count": 47,
   "id": "49e43bac-6ffd-49d0-bb65-fc23f3e357dd",
   "metadata": {},
   "outputs": [],
   "source": [
    "P,D=A.diagonalize()"
   ]
  },
  {
   "cell_type": "code",
   "execution_count": 51,
   "id": "816002f5-0a7a-45f0-928b-7eb19e5d1b18",
   "metadata": {},
   "outputs": [
    {
     "data": {
      "text/latex": [
       "$\\displaystyle \\left[\\begin{matrix}1 & 2\\\\2 & 3\\end{matrix}\\right]$"
      ],
      "text/plain": [
       "Matrix([\n",
       "[1, 2],\n",
       "[2, 3]])"
      ]
     },
     "execution_count": 51,
     "metadata": {},
     "output_type": "execute_result"
    }
   ],
   "source": [
    "P"
   ]
  },
  {
   "cell_type": "code",
   "execution_count": 55,
   "id": "bb35a923-1808-414d-b75f-4d08f3edae73",
   "metadata": {},
   "outputs": [
    {
     "data": {
      "text/plain": [
       "True"
      ]
     },
     "execution_count": 55,
     "metadata": {},
     "output_type": "execute_result"
    }
   ],
   "source": [
    "A.is_diagonalizable()"
   ]
  },
  {
   "cell_type": "raw",
   "id": "50859069-1152-47e6-92cf-04b6cab82864",
   "metadata": {},
   "source": [
    "4. Use Python code to solve the following system of equations by gauss elimination method \n",
    "    x + y + 2z = 7 \n",
    "    −x − 2y + 3z = 6       \n",
    "    3x − 7y + 6z = 1 \n"
   ]
  },
  {
   "cell_type": "code",
   "execution_count": 57,
   "id": "8d5cbcfb-10dc-43ba-a7bf-845242434d42",
   "metadata": {},
   "outputs": [],
   "source": [
    "from sympy import*\n",
    "x,y,z=symbols(\"x,y,z\")\n",
    "A=Matrix([[1,1,2],[-1,-2,3],[3,-7,6]])\n",
    "B=Matrix([[7,6,1]])"
   ]
  },
  {
   "cell_type": "code",
   "execution_count": 59,
   "id": "b98a41e4-bef4-4a9b-8c33-94ee98d73ed0",
   "metadata": {},
   "outputs": [
    {
     "data": {
      "text/latex": [
       "$\\displaystyle \\left\\{\\left( -1, \\  2, \\  3\\right)\\right\\}$"
      ],
      "text/plain": [
       "{(-1, 2, 3)}"
      ]
     },
     "execution_count": 59,
     "metadata": {},
     "output_type": "execute_result"
    }
   ],
   "source": [
    "linsolve((A,B),[x,y,z])"
   ]
  },
  {
   "cell_type": "raw",
   "id": "cb5cb7fe-57c0-498b-9421-fc55c6c92777",
   "metadata": {},
   "source": [
    "5. Using Python solve the following system of equations using LU – Factorization method \n",
    "    3x − 7y − 2z = −7 \n",
    "    −3x + 5y + z = 5 \n",
    "    6x − 4y = 2 \n"
   ]
  },
  {
   "cell_type": "code",
   "execution_count": 69,
   "id": "61d4d68a-3dbd-4928-b370-ce051a874e27",
   "metadata": {},
   "outputs": [],
   "source": [
    "from sympy import*\n",
    "AB=Matrix([[3,-7,-2,-7],[-3,5,1,5],[6,-4,0,2]])"
   ]
  },
  {
   "cell_type": "code",
   "execution_count": 67,
   "id": "fde49c2f-c154-4906-9663-1c475e036a4a",
   "metadata": {},
   "outputs": [
    {
     "data": {
      "text/plain": [
       "{x: 3, y: 4, z: -6}"
      ]
     },
     "execution_count": 67,
     "metadata": {},
     "output_type": "execute_result"
    }
   ],
   "source": [
    "x,y,z=symbols(\"x,y,z\")\n",
    "solve_linear_system_LU(AB,[x,y,z])"
   ]
  },
  {
   "cell_type": "raw",
   "id": "f495a639-b6a4-4973-b7ff-cd19de644b43",
   "metadata": {},
   "source": [
    "6. Declare the matrix find the matrices L and U such that A = LU \n",
    "A=[2 −1 2 7]\n",
    "  [4 7 3 4]\n",
    "  [4 2 0 −1]"
   ]
  },
  {
   "cell_type": "code",
   "execution_count": 73,
   "id": "6b19f8f2-9bc1-446c-b990-c13581e96df0",
   "metadata": {},
   "outputs": [],
   "source": [
    "from sympy import*\n",
    "A=Matrix([[2,-1,2,7],[4,7,3,4],[4,2,0,-1]])"
   ]
  },
  {
   "cell_type": "code",
   "execution_count": 75,
   "id": "7c2364f8-0dd9-4fc6-b966-26ca5a39981c",
   "metadata": {},
   "outputs": [
    {
     "data": {
      "text/plain": [
       "{x: 9/64, y: -25/32, z: 95/32}"
      ]
     },
     "execution_count": 75,
     "metadata": {},
     "output_type": "execute_result"
    }
   ],
   "source": [
    "x,y,z=symbols(\"x,y,z\")\n",
    "solve_linear_system_LU(A,[x,y,z])"
   ]
  },
  {
   "cell_type": "code",
   "execution_count": null,
   "id": "64832797-0977-4a43-b940-a1f42d0cc224",
   "metadata": {},
   "outputs": [],
   "source": []
  }
 ],
 "metadata": {
  "kernelspec": {
   "display_name": "Python 3 (ipykernel)",
   "language": "python",
   "name": "python3"
  },
  "language_info": {
   "codemirror_mode": {
    "name": "ipython",
    "version": 3
   },
   "file_extension": ".py",
   "mimetype": "text/x-python",
   "name": "python",
   "nbconvert_exporter": "python",
   "pygments_lexer": "ipython3",
   "version": "3.12.4"
  }
 },
 "nbformat": 4,
 "nbformat_minor": 5
}
