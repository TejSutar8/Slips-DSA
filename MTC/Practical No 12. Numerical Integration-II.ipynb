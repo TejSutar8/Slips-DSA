{
 "cells": [
  {
   "cell_type": "code",
   "execution_count": null,
   "id": "28a89b83-8b41-4d56-a24f-34bbc929d216",
   "metadata": {},
   "outputs": [],
   "source": [
    "Name: Tej Santosh Sutar\n",
    "RollNo:176\n",
    "Class:S.Y B.Sc CS\n",
    "Batch:H \n",
    "Date:14/09/2024\n",
    "Practical No 12. Numerical Integration-II"
   ]
  },
  {
   "cell_type": "code",
   "execution_count": 10,
   "id": "a24517f3-0c56-49ba-9d9e-dc7cf76c4273",
   "metadata": {},
   "outputs": [],
   "source": [
    "from math import*"
   ]
  },
  {
   "cell_type": "raw",
   "id": "f3180132-5c1d-4304-9d1e-0bcd0085cdf0",
   "metadata": {},
   "source": [
    "Q.1] Find the approximate value of I = ∫ (𝑑𝑥/( 1+�) with limits(0,1) 0 using the Simpson’s\n",
    "1/3rd rule with n =6."
   ]
  },
  {
   "cell_type": "code",
   "execution_count": 12,
   "id": "f266625c-7581-4851-9c41-6c61d283f54d",
   "metadata": {},
   "outputs": [],
   "source": [
    "#simpsons 1/3 rule\n",
    "def simpson1_3(a,b,n):\n",
    "    #calculating size\n",
    "    h=(b-a)/n\n",
    "    #finding sum\n",
    "    I=f(a)+f(b)\n",
    "    for i in range (1,n):\n",
    "        k=a+i*h\n",
    "        if i%2==0:\n",
    "            I=I+2*f(k)\n",
    "        else:\n",
    "            I=I+4*f(k)\n",
    "    I=I*(h/3)\n",
    "    return I"
   ]
  },
  {
   "cell_type": "code",
   "execution_count": 14,
   "id": "e6832d56-3a03-452e-8623-c7234dcf416c",
   "metadata": {},
   "outputs": [
    {
     "data": {
      "text/plain": [
       "0.6931697931697931"
      ]
     },
     "execution_count": 14,
     "metadata": {},
     "output_type": "execute_result"
    }
   ],
   "source": [
    "def f(x):\n",
    "    return(1/(1+x))\n",
    "simpson1_3(0,1,6)"
   ]
  },
  {
   "cell_type": "raw",
   "id": "b9045ca4-3b69-42b5-986b-12d6f69f6bc0",
   "metadata": {},
   "source": [
    "Q.2] Find the approximate value of I = ∫ sin𝑥 𝑑𝑥 with limits(0,pi) using the Simpson’s\n",
    "1/3rd rule with n =6."
   ]
  },
  {
   "cell_type": "code",
   "execution_count": 16,
   "id": "5f08c1b8-c996-4e39-bc69-ea8c90f68756",
   "metadata": {},
   "outputs": [
    {
     "data": {
      "text/plain": [
       "2.0008631896735363"
      ]
     },
     "execution_count": 16,
     "metadata": {},
     "output_type": "execute_result"
    }
   ],
   "source": [
    "def f(x):\n",
    "    return(sin(x))\n",
    "simpson1_3(0,pi,6)"
   ]
  },
  {
   "cell_type": "raw",
   "id": "3c94cb3f-7810-4e05-a7d2-c06ababb70c9",
   "metadata": {},
   "source": [
    "Q.3] Find the approximate value of I = ∫ (x sin(𝑥)) dx with limits(0,pi) using the Simpson’s\n",
    "1/3rd rule with n =6."
   ]
  },
  {
   "cell_type": "code",
   "execution_count": 18,
   "id": "8d595bdc-6c16-4476-9f72-e419486e8d89",
   "metadata": {},
   "outputs": [
    {
     "data": {
      "text/plain": [
       "3.1429485487583113"
      ]
     },
     "execution_count": 18,
     "metadata": {},
     "output_type": "execute_result"
    }
   ],
   "source": [
    "def f(x):\n",
    "    return(x*sin(x))\n",
    "simpson1_3(0,pi,6)"
   ]
  },
  {
   "cell_type": "raw",
   "id": "cc930059-d874-48e9-b3b6-53537dad6180",
   "metadata": {},
   "source": [
    "Q.4] Using the Simpson’s 1/3rd rule sub evaluate ∫ (𝑥(𝑒^𝑥))𝑑𝑥 with limits(0,1) taking six\n",
    "sub intervals ."
   ]
  },
  {
   "cell_type": "code",
   "execution_count": 20,
   "id": "35fecb4f-8307-4653-8b49-4133e54d1808",
   "metadata": {},
   "outputs": [
    {
     "data": {
      "text/plain": [
       "1.0000335899745985"
      ]
     },
     "execution_count": 20,
     "metadata": {},
     "output_type": "execute_result"
    }
   ],
   "source": [
    "def f(x):\n",
    "    return(x*exp(x))\n",
    "simpson1_3(0,1,6)"
   ]
  },
  {
   "cell_type": "raw",
   "id": "12413987-edfc-414f-949e-3e4384a39878",
   "metadata": {},
   "source": [
    "Q.5] Evaluate ∫ (1/( 1+x^3))0 with limits(0,3) dx using the Simpson’s 3/8th rule taking six\n",
    "sub intervals ."
   ]
  },
  {
   "cell_type": "code",
   "execution_count": 22,
   "id": "30224369-1bea-4e8b-af3d-50eac5c9d0e9",
   "metadata": {},
   "outputs": [],
   "source": [
    "#simpsons 3/8 rule\n",
    "def simpson3_8(a,b,n):\n",
    "    #calculating size\n",
    "    h=(b-a)/n\n",
    "    #finding sum\n",
    "    I=f(a)+f(b)\n",
    "    for i in range (1,n):\n",
    "        k=a+i*h\n",
    "        if i%3==0:\n",
    "            I=I+2*f(k)\n",
    "        else:\n",
    "            I=I+3*f(k)\n",
    "    I=I*3*(h/8)\n",
    "    return I"
   ]
  },
  {
   "cell_type": "code",
   "execution_count": 24,
   "id": "aa206de9-9e3d-4e6a-bc87-f9779350d6d1",
   "metadata": {},
   "outputs": [
    {
     "data": {
      "text/plain": [
       "1.1574953007518798"
      ]
     },
     "execution_count": 24,
     "metadata": {},
     "output_type": "execute_result"
    }
   ],
   "source": [
    "def f(x):\n",
    "    return(1/(1+x**3))\n",
    "simpson3_8(0,3,6)"
   ]
  },
  {
   "cell_type": "raw",
   "id": "6928a700-9625-4cce-bd75-18cf4ec7295d",
   "metadata": {},
   "source": [
    "Q.6] Evaluate ∫ x^3 with limits(1,5)dx using the Simpson’s 3/8th rule taking six sub\n",
    "intervals ."
   ]
  },
  {
   "cell_type": "code",
   "execution_count": 26,
   "id": "86aed9ce-988b-43fe-8425-fc59021db0e9",
   "metadata": {},
   "outputs": [
    {
     "data": {
      "text/plain": [
       "155.99999999999994"
      ]
     },
     "execution_count": 26,
     "metadata": {},
     "output_type": "execute_result"
    }
   ],
   "source": [
    "def f(x):\n",
    "    return(x**3)\n",
    "simpson3_8(1,5,6)"
   ]
  },
  {
   "cell_type": "code",
   "execution_count": null,
   "id": "8dbc3463-e35f-4aee-b031-e2b801bea9ff",
   "metadata": {},
   "outputs": [],
   "source": []
  },
  {
   "cell_type": "code",
   "execution_count": 72,
   "id": "208ff1b9-1056-47ff-a515-c71205dd8fdc",
   "metadata": {},
   "outputs": [],
   "source": [
    "#simpson1_3\n",
    "def simpson1_3(a,b,n):\n",
    "    h=(b-a)/n\n",
    "    I=f(a)+f(b)\n",
    "    for i in range(1,n):\n",
    "        k=a+i*h\n",
    "        if i%2==0:\n",
    "            I=I+2*f(k)\n",
    "        else:\n",
    "            I=I+4*f(k)\n",
    "    I=I*(h/3)\n",
    "    return I"
   ]
  },
  {
   "cell_type": "code",
   "execution_count": 74,
   "id": "0ace6e87-7cab-4a30-806d-40d6fc9149ea",
   "metadata": {},
   "outputs": [
    {
     "data": {
      "text/plain": [
       "0.6931697931697931"
      ]
     },
     "execution_count": 74,
     "metadata": {},
     "output_type": "execute_result"
    }
   ],
   "source": [
    "def f(x):\n",
    "    return(1/(1+x))\n",
    "simpson1_3(0,1,6)"
   ]
  },
  {
   "cell_type": "code",
   "execution_count": 76,
   "id": "96b4bac5-3800-497a-9a8f-efa7fdbba8c6",
   "metadata": {},
   "outputs": [],
   "source": [
    "def trapzonal(a,b,n):\n",
    "    h=(b-a)/n\n",
    "    I=f(a)+f(b)\n",
    "    for i in range(1,n):\n",
    "        k=a+i*h\n",
    "        I=I+2*f(k)\n",
    "    I=I*(h/2)\n",
    "    return I"
   ]
  },
  {
   "cell_type": "code",
   "execution_count": 78,
   "id": "ebab5c09-abbb-45c0-a548-3ffa83513595",
   "metadata": {},
   "outputs": [
    {
     "data": {
      "text/plain": [
       "0.6956349206349208"
      ]
     },
     "execution_count": 78,
     "metadata": {},
     "output_type": "execute_result"
    }
   ],
   "source": [
    "def f(x):\n",
    "    return (1/(1+x))\n",
    "trapzonal(0,1,5)"
   ]
  },
  {
   "cell_type": "code",
   "execution_count": null,
   "id": "235d9694-79c1-46ec-8617-f0c8bbfb586a",
   "metadata": {},
   "outputs": [],
   "source": []
  }
 ],
 "metadata": {
  "kernelspec": {
   "display_name": "Python 3 (ipykernel)",
   "language": "python",
   "name": "python3"
  },
  "language_info": {
   "codemirror_mode": {
    "name": "ipython",
    "version": 3
   },
   "file_extension": ".py",
   "mimetype": "text/x-python",
   "name": "python",
   "nbconvert_exporter": "python",
   "pygments_lexer": "ipython3",
   "version": "3.12.4"
  }
 },
 "nbformat": 4,
 "nbformat_minor": 5
}
