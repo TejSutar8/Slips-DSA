{
 "cells": [
  {
   "cell_type": "code",
   "execution_count": null,
   "id": "cfcf19ba-c6ba-4308-91c5-63c373a6bcab",
   "metadata": {},
   "outputs": [],
   "source": [
    "Name: Tej Santosh Sutar\n",
    "RollNo:176\n",
    "Class:S.Y B.Sc CS\n",
    "Batch:H \n",
    "Date:14/09/2024\n",
    "Practical No 11. Numerical Integration-I "
   ]
  },
  {
   "cell_type": "code",
   "execution_count": 1,
   "id": "42b26ba8-b7b6-4b7f-bf79-d7f8d3d31391",
   "metadata": {},
   "outputs": [],
   "source": [
    "from math import*"
   ]
  },
  {
   "cell_type": "raw",
   "id": "acb9b4d5-2caa-485d-af44-e1b824195462",
   "metadata": {},
   "source": [
    "Q.1] Approximate the area beneath y = x^3 - 5x - 9 on the interval [0,3] using the\n",
    "trapezoidal rule with n = 5"
   ]
  },
  {
   "cell_type": "code",
   "execution_count": 3,
   "id": "4c2521f2-80ca-4bde-9052-3e1c86dc7e48",
   "metadata": {},
   "outputs": [],
   "source": [
    "def trapezoidal(a,b,n):\n",
    "    #calculation size\n",
    "    h=(b-a)/n\n",
    "    #finding sum\n",
    "    I=f(a)+f(b)\n",
    "    for i in range(1,n):\n",
    "        k=a+i*h\n",
    "        I=I+2*f(k)\n",
    "    I=I*(h/2)\n",
    "    return I  "
   ]
  },
  {
   "cell_type": "code",
   "execution_count": 5,
   "id": "94e6a4f0-200b-4c9d-8952-4afc52fff683",
   "metadata": {},
   "outputs": [
    {
     "data": {
      "text/plain": [
       "-28.44"
      ]
     },
     "execution_count": 5,
     "metadata": {},
     "output_type": "execute_result"
    }
   ],
   "source": [
    "def f(x):\n",
    "    return(x**3-5*x-9)\n",
    "trapezoidal(0,3,5)"
   ]
  },
  {
   "cell_type": "raw",
   "id": "94496fbe-bceb-4ffa-90db-fcf056c538ce",
   "metadata": {},
   "source": [
    "Q.2] Approximate the area beneath y = sin(x) on the interval [0,pi] using the trapezoidal\n",
    "rule with n = 4 tarpezoids."
   ]
  },
  {
   "cell_type": "code",
   "execution_count": 7,
   "id": "0d3f6895-3c01-449e-9ba2-e6134751b1a7",
   "metadata": {},
   "outputs": [
    {
     "data": {
      "text/plain": [
       "1.89611889793704"
      ]
     },
     "execution_count": 7,
     "metadata": {},
     "output_type": "execute_result"
    }
   ],
   "source": [
    "def f(x):\n",
    "    return(sin(x))\n",
    "trapezoidal(0,pi,4)"
   ]
  },
  {
   "cell_type": "raw",
   "id": "7437cb8f-e5ac-4066-a028-0787101fd33f",
   "metadata": {},
   "source": [
    "Q.3] Evaluate ∫ (𝑑𝑥/(𝑥)) with limits((1/2),1) by trapezoidal rule dividing the range into four\n",
    "equal parts "
   ]
  },
  {
   "cell_type": "code",
   "execution_count": 11,
   "id": "f020bbb7-58e2-4674-93c2-e94e94d9e88b",
   "metadata": {},
   "outputs": [
    {
     "data": {
      "text/plain": [
       "0.6970238095238095"
      ]
     },
     "execution_count": 11,
     "metadata": {},
     "output_type": "execute_result"
    }
   ],
   "source": [
    "def f(x):\n",
    "    return(1/(x))\n",
    "trapezoidal(0.5,1,4)"
   ]
  },
  {
   "cell_type": "raw",
   "id": "d8867714-c4d9-4b85-b507-6c29427b3d2b",
   "metadata": {},
   "source": [
    "Q.4] Evaluate ∫ (𝑑𝑥/(1+𝑥)) with limits(2,10) by trapezoidal rule dividing the range into five\n",
    "equal parts ."
   ]
  },
  {
   "cell_type": "code",
   "execution_count": 13,
   "id": "dc951fad-9dda-4c68-be22-1255217f536a",
   "metadata": {},
   "outputs": [
    {
     "data": {
      "text/plain": [
       "1.3206255135651455"
      ]
     },
     "execution_count": 13,
     "metadata": {},
     "output_type": "execute_result"
    }
   ],
   "source": [
    "def f(x):\n",
    "    return(1/(1+x))\n",
    "trapezoidal(2,10,5)"
   ]
  },
  {
   "cell_type": "raw",
   "id": "60a7abf9-9590-4af8-b717-65fa24f57d55",
   "metadata": {},
   "source": [
    "Q.5] Evaluate ∫ (2x^2 - 4x +1) with limits(2,4) by trapezoidal rule n = 5. ."
   ]
  },
  {
   "cell_type": "code",
   "execution_count": 15,
   "id": "fa24c2a8-6291-42ee-b655-6661521bcc00",
   "metadata": {},
   "outputs": [
    {
     "data": {
      "text/plain": [
       "15.440000000000001"
      ]
     },
     "execution_count": 15,
     "metadata": {},
     "output_type": "execute_result"
    }
   ],
   "source": [
    "def f(x):\n",
    "    return(2*x**2-4*x+1)\n",
    "trapezoidal(2,4,5)"
   ]
  },
  {
   "cell_type": "raw",
   "id": "6df6e7f0-dd7e-487c-a617-efe677194f01",
   "metadata": {},
   "source": [
    "Q.6] Evaluate ∫ cos𝑥𝑑𝑥 with limits(0,1) by trapezoidal rule dividing the range into four\n",
    "equal parts"
   ]
  },
  {
   "cell_type": "code",
   "execution_count": 17,
   "id": "e8ed9969-01c0-44fc-a716-548f3ea28c7c",
   "metadata": {},
   "outputs": [
    {
     "data": {
      "text/plain": [
       "0.8370837513522271"
      ]
     },
     "execution_count": 17,
     "metadata": {},
     "output_type": "execute_result"
    }
   ],
   "source": [
    "def f(x):\n",
    "    return(cos(x))\n",
    "trapezoidal(0,1,4)"
   ]
  }
 ],
 "metadata": {
  "kernelspec": {
   "display_name": "Python 3 (ipykernel)",
   "language": "python",
   "name": "python3"
  },
  "language_info": {
   "codemirror_mode": {
    "name": "ipython",
    "version": 3
   },
   "file_extension": ".py",
   "mimetype": "text/x-python",
   "name": "python",
   "nbconvert_exporter": "python",
   "pygments_lexer": "ipython3",
   "version": "3.12.4"
  }
 },
 "nbformat": 4,
 "nbformat_minor": 5
}
