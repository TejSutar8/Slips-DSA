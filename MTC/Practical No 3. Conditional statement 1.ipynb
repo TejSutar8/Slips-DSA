{
 "cells": [
  {
   "cell_type": "raw",
   "id": "93d5b373-03e8-4965-a52e-4116e6f95d96",
   "metadata": {
    "vscode": {
     "languageId": "raw"
    }
   },
   "source": [
    "Name: Tej Santosh Sutar\n",
    "RollNo:176\n",
    "Class:S.Y B.Sc CS\n",
    "Batch:H\n",
    "Date:10/08/2024\n",
    "Practical No 3. Conditional statement 1"
   ]
  },
  {
   "cell_type": "raw",
   "id": "b5504870-9fc6-42e3-bcd2-289d2db17d98",
   "metadata": {},
   "source": [
    "1. Write Python program to generate the square of numbers from 1 to 10."
   ]
  },
  {
   "cell_type": "code",
   "execution_count": 5,
   "id": "23565f4a-3093-41c7-b820-dc7eda93ffe2",
   "metadata": {},
   "outputs": [
    {
     "name": "stdout",
     "output_type": "stream",
     "text": [
      "1\n",
      "4\n",
      "9\n",
      "16\n",
      "25\n",
      "36\n",
      "49\n",
      "64\n",
      "81\n",
      "100\n"
     ]
    }
   ],
   "source": [
    "for i in range(1,11):\n",
    "    y=i**2\n",
    "    print(y)"
   ]
  },
  {
   "cell_type": "raw",
   "id": "c6fbd587-0318-489e-9b65-31bd8a5ebc8d",
   "metadata": {},
   "source": [
    "2. Write Python code to generate cube of numbers from 1 to 50."
   ]
  },
  {
   "cell_type": "code",
   "execution_count": 3,
   "id": "f4df8f5a-30d1-46d7-85ce-c2bbb5595cec",
   "metadata": {},
   "outputs": [
    {
     "name": "stdout",
     "output_type": "stream",
     "text": [
      "1\n",
      "8\n",
      "27\n",
      "64\n",
      "125\n",
      "216\n",
      "343\n",
      "512\n",
      "729\n",
      "1000\n",
      "1331\n",
      "1728\n",
      "2197\n",
      "2744\n",
      "3375\n",
      "4096\n",
      "4913\n",
      "5832\n",
      "6859\n",
      "8000\n",
      "9261\n",
      "10648\n",
      "12167\n",
      "13824\n",
      "15625\n",
      "17576\n",
      "19683\n",
      "21952\n",
      "24389\n",
      "27000\n",
      "29791\n",
      "32768\n",
      "35937\n",
      "39304\n",
      "42875\n",
      "46656\n",
      "50653\n",
      "54872\n",
      "59319\n",
      "64000\n",
      "68921\n",
      "74088\n",
      "79507\n",
      "85184\n",
      "91125\n",
      "97336\n",
      "103823\n",
      "110592\n",
      "117649\n",
      "125000\n"
     ]
    }
   ],
   "source": [
    "for i in range(1,51):\n",
    "    y=i**3\n",
    "    print(y)"
   ]
  },
  {
   "cell_type": "raw",
   "id": "2080065b-1d0e-4ab6-8e98-fdfbbfe31b0c",
   "metadata": {},
   "source": [
    "3. Write Python program to find the 10 term of the sequence of function \n",
    "f (x) = x2 +x."
   ]
  },
  {
   "cell_type": "code",
   "execution_count": 1,
   "id": "f6e917d9-ab88-4ca8-8c55-e269094a1455",
   "metadata": {},
   "outputs": [
    {
     "name": "stdout",
     "output_type": "stream",
     "text": [
      "2\n",
      "6\n",
      "12\n",
      "20\n",
      "30\n",
      "42\n",
      "56\n",
      "72\n",
      "90\n",
      "110\n"
     ]
    }
   ],
   "source": [
    "for x in range(1,11):\n",
    "    y=x**2+x\n",
    "    print(y)"
   ]
  },
  {
   "cell_type": "raw",
   "id": "85f70b6a-de92-4c45-ab35-590ef2e14850",
   "metadata": {},
   "source": [
    "4. Use Python code to generate the square root of numbers from 21 to 49"
   ]
  },
  {
   "cell_type": "code",
   "execution_count": 15,
   "id": "ce5d01ca-e268-42ce-88e8-f980cb02cfbe",
   "metadata": {},
   "outputs": [
    {
     "name": "stdout",
     "output_type": "stream",
     "text": [
      "4.58257569495584\n",
      "4.69041575982343\n",
      "4.795831523312719\n",
      "4.898979485566356\n",
      "5.0\n",
      "5.0990195135927845\n",
      "5.196152422706632\n",
      "5.291502622129181\n",
      "5.385164807134504\n",
      "5.477225575051661\n",
      "5.5677643628300215\n",
      "5.656854249492381\n",
      "5.744562646538029\n",
      "5.830951894845301\n",
      "5.916079783099616\n",
      "6.0\n",
      "6.082762530298219\n",
      "6.164414002968976\n",
      "6.244997998398398\n",
      "6.324555320336759\n",
      "6.4031242374328485\n",
      "6.48074069840786\n",
      "6.557438524302\n",
      "6.6332495807108\n",
      "6.708203932499369\n",
      "6.782329983125268\n",
      "6.855654600401044\n",
      "6.928203230275509\n",
      "7.0\n"
     ]
    }
   ],
   "source": [
    "import math\n",
    "for x in range(21,50):\n",
    "    y=math.sqrt(x)\n",
    "    print(y)"
   ]
  },
  {
   "cell_type": "raw",
   "id": "51f5d21a-8511-411f-8b29-d0d69ad3063b",
   "metadata": {},
   "source": [
    "5. Generate all the prime numbers between 1 to 100 using Python code"
   ]
  },
  {
   "cell_type": "code",
   "execution_count": 28,
   "id": "03c0d921-397d-49f0-a23c-82837c5b9d36",
   "metadata": {},
   "outputs": [
    {
     "name": "stdout",
     "output_type": "stream",
     "text": [
      "2,3,5,7,11,13,17,19,23,29,31,37,41,43,47,53,59,61,67,71,73,79,83,89,97,"
     ]
    }
   ],
   "source": [
    "for i in range(2,101):\n",
    "    for j in range(2,101):\n",
    "        if i%j==0:\n",
    "            break\n",
    "    if i==j:\n",
    "        print(i,end=\",\")"
   ]
  },
  {
   "cell_type": "raw",
   "id": "85d3574a-d7bd-4350-b572-d72d4fa35ac7",
   "metadata": {},
   "source": [
    "6. Write Python code to list name and roll number of 5 students in B.Sc. (Computer \n",
    "science)."
   ]
  },
  {
   "cell_type": "code",
   "execution_count": 42,
   "id": "16931758-5c8b-4d80-bd42-2a90eeb70d10",
   "metadata": {},
   "outputs": [
    {
     "name": "stdout",
     "output_type": "stream",
     "text": [
      "5 students in B.Sc.CS\n",
      "tej:- 1\n",
      "akash:- 2\n",
      "aryan:- 3\n",
      "predeep V:- 4\n",
      "shreeyash:- 5\n"
     ]
    }
   ],
   "source": [
    "list1=[\"tej:-\",\"akash:-\",\"aryan:-\",\"predeep V:-\",\"shreeyash:-\"]\n",
    "list2=[\"1\",\"2\",\"3\",\"4\",\"5\"]\n",
    "print(\"5 students in B.Sc.CS\")\n",
    "for x,y in zip(list1,list2):\n",
    "    print(x,y)"
   ]
  },
  {
   "cell_type": "raw",
   "id": "b3860c67-4545-447b-a122-1d2a6c477aee",
   "metadata": {},
   "source": [
    "7. Using Python code to list Name of 5 teacher in your college with their subject."
   ]
  },
  {
   "cell_type": "code",
   "execution_count": 52,
   "id": "8f58f132-755f-4820-8278-1ff202461069",
   "metadata": {},
   "outputs": [
    {
     "name": "stdout",
     "output_type": "stream",
     "text": [
      "5 teacher with their subject\n",
      "tej:- Web-DEVELOPER\n",
      "akash:- PYTHON IN ELECTRONIC\n",
      "aryan:- PYTHON IN C\n",
      "predeep V:- PYTHON IN JAVA\n",
      "shreeyash:- PYTHON IN HTML\n"
     ]
    }
   ],
   "source": [
    "list1=[\"tej:-\",\"akash:-\",\"aryan:-\",\"predeep V:-\",\"shreeyash:-\"]\n",
    "list2=[\"Web-DEVELOPER\",\"PYTHON IN ELECTRONIC\",\"PYTHON IN C\",\"PYTHON IN JAVA\",\"PYTHON IN HTML\"]\n",
    "print(\"5 teacher with their subject\")\n",
    "for x,y in zip(list1,list2):\n",
    "    print(x,y)"
   ]
  },
  {
   "cell_type": "raw",
   "id": "43136d3f-cb5b-4157-ab19-d556ee9c52a3",
   "metadata": {},
   "source": [
    "8. Find number between 1 to 200 which are divisible by 7 using Python code"
   ]
  },
  {
   "cell_type": "code",
   "execution_count": 58,
   "id": "92856d02-70a2-411c-9bcb-62c7ad6112eb",
   "metadata": {},
   "outputs": [
    {
     "name": "stdout",
     "output_type": "stream",
     "text": [
      "7,14,21,28,35,42,49,56,63,70,77,84,91,98,105,112,119,126,133,140,147,154,161,168,175,182,189,196,"
     ]
    }
   ],
   "source": [
    "for i in range(1,201):\n",
    "    if i%7==0:\n",
    "        print(i,end=\",\")\n",
    "    "
   ]
  },
  {
   "cell_type": "raw",
   "id": "efb88223-24aa-4291-9ba9-0fbbf8e61b85",
   "metadata": {},
   "source": [
    "9. Write Python code to prints all integers between 1 to 100 that are divisible by 3 \n",
    "and 7."
   ]
  },
  {
   "cell_type": "code",
   "execution_count": 99,
   "id": "e7d0a93d-c6c1-4dff-bfe9-9a5cbbdb2de5",
   "metadata": {},
   "outputs": [
    {
     "name": "stdout",
     "output_type": "stream",
     "text": [
      "21,42,63,84,"
     ]
    }
   ],
   "source": [
    "for i in range(1,101):\n",
    "    if i%3==0 and i%7==0:\n",
    "        print(i,end=\",\")"
   ]
  },
  {
   "cell_type": "raw",
   "id": "8537489b-b62d-4e69-80a1-e6038e0d33b5",
   "metadata": {},
   "source": [
    "10.Write Python program to prints whether the given natural number is divisible by 5 \n",
    "and less than 100"
   ]
  },
  {
   "cell_type": "code",
   "execution_count": 109,
   "id": "971775f0-8e4c-47ba-9719-2ba4480c82de",
   "metadata": {},
   "outputs": [],
   "source": [
    " def f(x):\n",
    "     if x%5 and x<100:\n",
    "         print(x,\"is divisible by 5 and less than 100\")\n",
    "     else:\n",
    "         print(x,\"is not divisible by 5 and less than 100\")\n",
    "    "
   ]
  },
  {
   "cell_type": "code",
   "execution_count": 111,
   "id": "2d7bf0b5-8f55-44bc-b7ec-d1e186735f86",
   "metadata": {},
   "outputs": [
    {
     "name": "stdout",
     "output_type": "stream",
     "text": [
      "203 is not divisible by 5 and less than 100\n"
     ]
    }
   ],
   "source": [
    "f(203)"
   ]
  },
  {
   "cell_type": "raw",
   "id": "1fd8b7cd-4d0e-4a1e-8584-4081c58b1f84",
   "metadata": {},
   "source": [
    "11.Write Python code to find all positive divisors of given number n."
   ]
  },
  {
   "cell_type": "code",
   "execution_count": 117,
   "id": "997eeb02-090e-47c0-afc4-5aa9c66b11fd",
   "metadata": {},
   "outputs": [],
   "source": [
    "def divisors(n):\n",
    "    for i in range(1,n+1):\n",
    "        if n%i==0:\n",
    "            print(i,end=\",\")"
   ]
  },
  {
   "cell_type": "code",
   "execution_count": 119,
   "id": "9fc8b1b4-8a48-429d-9ae2-ba63fa08874e",
   "metadata": {},
   "outputs": [
    {
     "name": "stdout",
     "output_type": "stream",
     "text": [
      "1,2,3,6,9,13,18,26,39,78,117,234,"
     ]
    }
   ],
   "source": [
    "divisors(234)"
   ]
  },
  {
   "cell_type": "raw",
   "id": "ea706148-f119-42f2-9f9d-5817461dc1d3",
   "metadata": {},
   "source": [
    "12.Write Python code to check if a number is Zero, Odd or Even."
   ]
  },
  {
   "cell_type": "code",
   "execution_count": 113,
   "id": "defbe6eb-8bb7-4508-afe5-e4ad4dfece03",
   "metadata": {},
   "outputs": [],
   "source": [
    "def p(x):\n",
    "    if x==0:\n",
    "        print(x,\"is zero\")\n",
    "    elif x%2==0:\n",
    "        print(x,\"is even\")\n",
    "    else:\n",
    "        print(x,\"is odd\")"
   ]
  },
  {
   "cell_type": "code",
   "execution_count": 115,
   "id": "a9f4190c-8b5f-4994-9c8f-6dd57106cc96",
   "metadata": {},
   "outputs": [
    {
     "name": "stdout",
     "output_type": "stream",
     "text": [
      "11 is odd\n"
     ]
    }
   ],
   "source": [
    "p(11)"
   ]
  },
  {
   "cell_type": "code",
   "execution_count": null,
   "id": "727df6e1-b4d9-4a71-994e-7a191560b8bc",
   "metadata": {},
   "outputs": [],
   "source": []
  }
 ],
 "metadata": {
  "kernelspec": {
   "display_name": "Python 3 (ipykernel)",
   "language": "python",
   "name": "python3"
  },
  "language_info": {
   "codemirror_mode": {
    "name": "ipython",
    "version": 3
   },
   "file_extension": ".py",
   "mimetype": "text/x-python",
   "name": "python",
   "nbconvert_exporter": "python",
   "pygments_lexer": "ipython3",
   "version": "3.12.4"
  }
 },
 "nbformat": 4,
 "nbformat_minor": 5
}
