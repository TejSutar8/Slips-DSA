{
 "cells": [
  {
   "cell_type": "raw",
   "id": "5cfe6d13-3fa5-497b-a94e-70a7eae8f7d6",
   "metadata": {
    "vscode": {
     "languageId": "raw"
    }
   },
   "source": [
    "Name: Tej Santosh Sutar\n",
    "RollNo:176\n",
    "Class:S.Y B.Sc CS\n",
    "Batch:H\n",
    "Date:20/07/2024\n",
    "Practical No 1. Introduction to Python- Data Type-I"
   ]
  },
  {
   "cell_type": "raw",
   "id": "5d2f9989-59f6-4d6f-8631-33b3d8026a77",
   "metadata": {},
   "source": [
    "Q1 Evaluvate each the following\n"
   ]
  },
  {
   "cell_type": "markdown",
   "id": "298534c4-9bf6-47eb-9b7a-ce245d66e2a1",
   "metadata": {},
   "source": [
    "a. 20 modulus 2 + 7 - (3 +7) × 20 ÷ 2"
   ]
  },
  {
   "cell_type": "code",
   "execution_count": 1,
   "id": "2222ac49-2667-436d-8c82-a5409fab3f93",
   "metadata": {},
   "outputs": [
    {
     "data": {
      "text/plain": [
       "-93.0"
      ]
     },
     "execution_count": 1,
     "metadata": {},
     "output_type": "execute_result"
    }
   ],
   "source": [
    "(20%2)+7-(3+7)*(20/2)"
   ]
  },
  {
   "cell_type": "raw",
   "id": "10f6fc83-6cb3-4c95-a12f-7f4ca9f4601a",
   "metadata": {},
   "source": [
    "b. 30 × 10 floor division 3 + 10 modulus 3"
   ]
  },
  {
   "cell_type": "code",
   "execution_count": 2,
   "id": "9443a6cf-275f-454a-a37b-c8c2513953eb",
   "metadata": {},
   "outputs": [
    {
     "data": {
      "text/plain": [
       "91"
      ]
     },
     "execution_count": 2,
     "metadata": {},
     "output_type": "execute_result"
    }
   ],
   "source": [
    "30*(10//3)+(10%3)"
   ]
  },
  {
   "cell_type": "raw",
   "id": "24b372f0-ea76-4cb9-9d36-d4cd28c76ff8",
   "metadata": {},
   "source": [
    "c. 25 - 24 + 4 floor division 4"
   ]
  },
  {
   "cell_type": "code",
   "execution_count": 3,
   "id": "f551164f-16ee-4ff8-8fd3-456d0586e30a",
   "metadata": {},
   "outputs": [
    {
     "data": {
      "text/plain": [
       "17"
      ]
     },
     "execution_count": 3,
     "metadata": {},
     "output_type": "execute_result"
    }
   ],
   "source": [
    "2**5-2**4+(4//4)"
   ]
  },
  {
   "cell_type": "raw",
   "id": "65d40e1a-c2d9-440d-b5aa-0ac2fe5652cb",
   "metadata": {},
   "source": [
    "Q2 Print the following string in Python."
   ]
  },
  {
   "cell_type": "raw",
   "id": "1cd9d554-0db3-4714-9b91-bbeb7bc59e3d",
   "metadata": {},
   "source": [
    "a)\tLife is Beautiful!"
   ]
  },
  {
   "cell_type": "code",
   "execution_count": 4,
   "id": "420c9527-27a9-49dc-8f56-c13c35309e65",
   "metadata": {},
   "outputs": [
    {
     "name": "stdout",
     "output_type": "stream",
     "text": [
      "Life is beautiful!\n"
     ]
    }
   ],
   "source": [
    "print(\"Life is beautiful!\")"
   ]
  },
  {
   "cell_type": "raw",
   "id": "15ceb330-8d5f-48dd-a5a2-e2438165908d",
   "metadata": {
    "vscode": {
     "languageId": "raw"
    }
   },
   "source": [
    "b)\tThe value of I is -1"
   ]
  },
  {
   "cell_type": "code",
   "execution_count": 6,
   "id": "e6fe16ef-c5d2-40f2-a5f6-712a68514016",
   "metadata": {},
   "outputs": [
    {
     "name": "stdout",
     "output_type": "stream",
     "text": [
      "The Value of I is -1\n"
     ]
    }
   ],
   "source": [
    "print(\"The Value of I is -1\")"
   ]
  },
  {
   "cell_type": "raw",
   "id": "eefbb148-db88-4b81-b769-7692542b48c0",
   "metadata": {},
   "source": [
    "Q3 Perform the following operations in Python."
   ]
  },
  {
   "cell_type": "code",
   "execution_count": null,
   "id": "0c6a2ed4-a042-4ea9-89d6-8b1861573504",
   "metadata": {},
   "outputs": [],
   "source": [
    "from math import *"
   ]
  },
  {
   "cell_type": "raw",
   "id": "58de7053-3a26-42fc-9fb5-abda95109e01",
   "metadata": {},
   "source": [
    "a) 4+74+7/2×3-2/3\t"
   ]
  },
  {
   "cell_type": "code",
   "execution_count": null,
   "id": "30bda7b1-4bfd-4185-9ead-044cbf7076fc",
   "metadata": {},
   "outputs": [
    {
     "data": {
      "text/plain": [
       "87.83333333333333"
      ]
     },
     "execution_count": 24,
     "metadata": {},
     "output_type": "execute_result"
    }
   ],
   "source": [
    "4+74+7/2*3-2/3"
   ]
  },
  {
   "cell_type": "raw",
   "id": "f060d981-068d-495e-a055-2944d080b456",
   "metadata": {},
   "source": [
    "b) 3π/4\t"
   ]
  },
  {
   "cell_type": "code",
   "execution_count": null,
   "id": "801b449f-4c41-4ddb-8a63-ae9004318faa",
   "metadata": {},
   "outputs": [
    {
     "data": {
      "text/plain": [
       "2.356194490192345"
      ]
     },
     "execution_count": 34,
     "metadata": {},
     "output_type": "execute_result"
    }
   ],
   "source": [
    "3*pi/4"
   ]
  },
  {
   "cell_type": "raw",
   "id": "e5617c26-a199-4643-8f7d-dab10de04882",
   "metadata": {},
   "source": [
    "c) 17 modulo 3"
   ]
  },
  {
   "cell_type": "code",
   "execution_count": null,
   "id": "a87192c7-6b5a-4a86-98d5-c78ab1d7b13d",
   "metadata": {},
   "outputs": [
    {
     "data": {
      "text/plain": [
       "2"
      ]
     },
     "execution_count": 36,
     "metadata": {},
     "output_type": "execute_result"
    }
   ],
   "source": [
    "17%3"
   ]
  },
  {
   "cell_type": "raw",
   "id": "a2ae295c-1dc6-46f0-8dce-b249d312a4d6",
   "metadata": {},
   "source": [
    "d) Find the remainder, when 94 is divided by 17"
   ]
  },
  {
   "cell_type": "code",
   "execution_count": null,
   "id": "f424a7db-5d3b-4488-957a-08980b69ff5f",
   "metadata": {},
   "outputs": [
    {
     "data": {
      "text/plain": [
       "9"
      ]
     },
     "execution_count": 38,
     "metadata": {},
     "output_type": "execute_result"
    }
   ],
   "source": [
    "94%17"
   ]
  },
  {
   "cell_type": "raw",
   "id": "c73fe47f-8207-4857-9a3c-a4b786adb485",
   "metadata": {},
   "source": [
    "Q4 Write the values of the following expressions, If x and y is true & z is false."
   ]
  },
  {
   "cell_type": "code",
   "execution_count": null,
   "id": "7be37db7-d721-4b8f-8f57-e7fde1bf5fae",
   "metadata": {},
   "outputs": [],
   "source": [
    "x=True\n",
    "y=True\n",
    "z=False"
   ]
  },
  {
   "cell_type": "raw",
   "id": "ccb77cb0-ac8a-461c-b1ed-5ed45666dddc",
   "metadata": {},
   "source": [
    "a) (x or y)and z"
   ]
  },
  {
   "cell_type": "code",
   "execution_count": null,
   "id": "0283dbe0-3121-476d-9f4e-296a336ec738",
   "metadata": {},
   "outputs": [
    {
     "data": {
      "text/plain": [
       "False"
      ]
     },
     "execution_count": 42,
     "metadata": {},
     "output_type": "execute_result"
    }
   ],
   "source": [
    "(x or y) and z"
   ]
  },
  {
   "cell_type": "raw",
   "id": "fafb6a40-1ba2-4330-8756-ce9643edc10a",
   "metadata": {},
   "source": [
    "b) (x and y)  or not z"
   ]
  },
  {
   "cell_type": "code",
   "execution_count": null,
   "id": "a6b2b2b1-edda-4a21-9651-ad7016fbf11f",
   "metadata": {},
   "outputs": [
    {
     "data": {
      "text/plain": [
       "True"
      ]
     },
     "execution_count": 44,
     "metadata": {},
     "output_type": "execute_result"
    }
   ],
   "source": [
    "(x and y) or not z"
   ]
  },
  {
   "cell_type": "raw",
   "id": "0af758a9-8707-4ff8-8bef-ad7ed0f5667e",
   "metadata": {},
   "source": [
    "c) (x and not y)  or (x and z) "
   ]
  },
  {
   "cell_type": "code",
   "execution_count": null,
   "id": "472039c7-6a7a-417c-ab0a-3c98e67a7dcc",
   "metadata": {},
   "outputs": [
    {
     "data": {
      "text/plain": [
       "False"
      ]
     },
     "execution_count": 46,
     "metadata": {},
     "output_type": "execute_result"
    }
   ],
   "source": [
    "(x and not y) or (x and z)"
   ]
  },
  {
   "cell_type": "raw",
   "id": "665a8511-6f29-4c45-9499-392886bc53b8",
   "metadata": {},
   "source": [
    "Q5 Use print command on Python to find "
   ]
  },
  {
   "cell_type": "raw",
   "id": "9469a935-e1fd-4e93-ab45-9e4a32967f68",
   "metadata": {},
   "source": [
    "a) sin 30 "
   ]
  },
  {
   "cell_type": "code",
   "execution_count": null,
   "id": "e2554938-e775-45c3-926e-278883ef18db",
   "metadata": {},
   "outputs": [
    {
     "data": {
      "text/plain": [
       "-0.9880316240928618"
      ]
     },
     "execution_count": 48,
     "metadata": {},
     "output_type": "execute_result"
    }
   ],
   "source": [
    "sin(30)"
   ]
  },
  {
   "cell_type": "raw",
   "id": "bc31b737-7b5d-421e-a995-3ae354f2ee9f",
   "metadata": {},
   "source": [
    "b) pi"
   ]
  },
  {
   "cell_type": "code",
   "execution_count": null,
   "id": "e622d00c-9108-4871-aa26-d3d592f2e036",
   "metadata": {},
   "outputs": [
    {
     "data": {
      "text/plain": [
       "3.141592653589793"
      ]
     },
     "execution_count": 50,
     "metadata": {},
     "output_type": "execute_result"
    }
   ],
   "source": [
    "pi"
   ]
  },
  {
   "cell_type": "raw",
   "id": "24cfbc23-d36a-4762-bfbb-a4d4a2d05e27",
   "metadata": {},
   "source": [
    " c) e "
   ]
  },
  {
   "cell_type": "code",
   "execution_count": null,
   "id": "dba91eca-091e-4bd3-a567-63702d536dd2",
   "metadata": {},
   "outputs": [
    {
     "data": {
      "text/plain": [
       "2.718281828459045"
      ]
     },
     "execution_count": 53,
     "metadata": {},
     "output_type": "execute_result"
    }
   ],
   "source": [
    "e"
   ]
  },
  {
   "cell_type": "raw",
   "id": "6871cd7f-923e-4af1-9d3c-e069971b7b88",
   "metadata": {},
   "source": [
    "d) cos 30"
   ]
  },
  {
   "cell_type": "code",
   "execution_count": null,
   "id": "00c6ad41-a9be-48c1-8fc8-606de3945b90",
   "metadata": {},
   "outputs": [
    {
     "data": {
      "text/plain": [
       "0.15425144988758405"
      ]
     },
     "execution_count": 55,
     "metadata": {},
     "output_type": "execute_result"
    }
   ],
   "source": [
    "cos(30)"
   ]
  },
  {
   "cell_type": "raw",
   "id": "638eac14-ee9e-4834-9ff3-22f445e239df",
   "metadata": {},
   "source": [
    "Q6 Use print code on python (c=4,b=6,c=8,d=12)"
   ]
  },
  {
   "cell_type": "code",
   "execution_count": null,
   "id": "e298134d-7ed8-439c-a007-1dc22d026135",
   "metadata": {},
   "outputs": [],
   "source": [
    "a=4\n",
    "b=6\n",
    "c=8\n",
    "d=12"
   ]
  },
  {
   "cell_type": "raw",
   "id": "ee5f5d23-a45f-4275-b6d6-ef505afd4fc5",
   "metadata": {},
   "source": [
    " a) print(a+b)"
   ]
  },
  {
   "cell_type": "code",
   "execution_count": null,
   "id": "d18026b9-6568-46a9-bfd0-c1620410b8af",
   "metadata": {},
   "outputs": [
    {
     "name": "stdout",
     "output_type": "stream",
     "text": [
      "10\n"
     ]
    }
   ],
   "source": [
    "print(a+b)"
   ]
  },
  {
   "cell_type": "raw",
   "id": "b5ff1388-fef7-453f-b623-e67fc9cdd80f",
   "metadata": {},
   "source": [
    "b) print(a*b)"
   ]
  },
  {
   "cell_type": "code",
   "execution_count": null,
   "id": "58a02656-c026-4893-b63e-10a2b102f79f",
   "metadata": {},
   "outputs": [
    {
     "name": "stdout",
     "output_type": "stream",
     "text": [
      "24\n"
     ]
    }
   ],
   "source": [
    "print(a*b)"
   ]
  },
  {
   "cell_type": "raw",
   "id": "dfdd26b4-ee5f-4de3-ace9-540bfdb16637",
   "metadata": {},
   "source": [
    "c) print(c**d) "
   ]
  },
  {
   "cell_type": "code",
   "execution_count": null,
   "id": "82d146fa-03a7-4f16-872a-456d831e6bb2",
   "metadata": {},
   "outputs": [
    {
     "name": "stdout",
     "output_type": "stream",
     "text": [
      "68719476736\n"
     ]
    }
   ],
   "source": [
    "print(c**d)"
   ]
  },
  {
   "cell_type": "raw",
   "id": "d11b0607-9ec8-4112-8aa5-f5f3f0ee9e8d",
   "metadata": {},
   "source": [
    "d) print(a/b)"
   ]
  },
  {
   "cell_type": "code",
   "execution_count": null,
   "id": "8e861701-682a-43c8-a4d7-a8831fb08923",
   "metadata": {},
   "outputs": [
    {
     "name": "stdout",
     "output_type": "stream",
     "text": [
      "0.6666666666666666\n"
     ]
    }
   ],
   "source": [
    "print(a/b)"
   ]
  },
  {
   "cell_type": "raw",
   "id": "876df4b0-b270-4cf9-b055-97d61aa9dc39",
   "metadata": {},
   "source": [
    "e) Expression: 3+(9-2)/7*2**2"
   ]
  },
  {
   "cell_type": "code",
   "execution_count": null,
   "id": "3ab1f6e2-7222-4ac2-9962-14ba3a9b6ccf",
   "metadata": {},
   "outputs": [
    {
     "data": {
      "text/plain": [
       "7.0"
      ]
     },
     "execution_count": 67,
     "metadata": {},
     "output_type": "execute_result"
    }
   ],
   "source": [
    "3+(9-2)/7*2**2"
   ]
  },
  {
   "cell_type": "code",
   "execution_count": null,
   "id": "da343488-184e-479c-9128-3ed0aedfe4a4",
   "metadata": {},
   "outputs": [],
   "source": [
    "import cmath "
   ]
  },
  {
   "cell_type": "raw",
   "id": "2cb4e27f-f895-4be0-87d6-cf51b65c9980",
   "metadata": {},
   "source": [
    "Q7 Using Python, evaluate the following expression of two complex number\n",
    "  z1 = 5 + 3j and z2 = −5 + 7j"
   ]
  },
  {
   "cell_type": "code",
   "execution_count": null,
   "id": "df703799-a3fb-4dbb-9bd1-afe725a042c4",
   "metadata": {},
   "outputs": [],
   "source": [
    "z1=5+3j\n",
    "z2=-5+7j"
   ]
  },
  {
   "cell_type": "raw",
   "id": "d74840cc-4fed-4ac7-9415-1f8152fc3d20",
   "metadata": {},
   "source": [
    "  a)\tz1 + z2"
   ]
  },
  {
   "cell_type": "code",
   "execution_count": null,
   "id": "cd574b2d-6052-4c7d-9693-668d2071ff27",
   "metadata": {},
   "outputs": [
    {
     "data": {
      "text/plain": [
       "10j"
      ]
     },
     "execution_count": 83,
     "metadata": {},
     "output_type": "execute_result"
    }
   ],
   "source": [
    "z1+z2"
   ]
  },
  {
   "cell_type": "raw",
   "id": "be80757b-6cf8-468a-b844-9922d1dc8ca5",
   "metadata": {},
   "source": [
    " b)\tz1 − z2"
   ]
  },
  {
   "cell_type": "code",
   "execution_count": null,
   "id": "fadd129a-0a93-46d5-acb6-a1ab1e20a82d",
   "metadata": {},
   "outputs": [
    {
     "data": {
      "text/plain": [
       "(10-4j)"
      ]
     },
     "execution_count": 85,
     "metadata": {},
     "output_type": "execute_result"
    }
   ],
   "source": [
    "z1-z2"
   ]
  },
  {
   "cell_type": "raw",
   "id": "2cc55c27-e22f-49f0-b2fa-bd06db08aa6c",
   "metadata": {},
   "source": [
    " c)\tz1 ∗ z2"
   ]
  },
  {
   "cell_type": "code",
   "execution_count": null,
   "id": "9edc598f-0968-4833-b3bc-4134dcdcc412",
   "metadata": {},
   "outputs": [
    {
     "data": {
      "text/plain": [
       "(-46+20j)"
      ]
     },
     "execution_count": 87,
     "metadata": {},
     "output_type": "execute_result"
    }
   ],
   "source": [
    "z1*z2"
   ]
  },
  {
   "cell_type": "raw",
   "id": "64a9d770-4085-47aa-9bb4-1bc111557906",
   "metadata": {},
   "source": [
    "Q8. Run the following in Python programming."
   ]
  },
  {
   "cell_type": "raw",
   "id": "9c956b71-bcd5-4485-885d-91c6a44b3113",
   "metadata": {},
   "source": [
    "a) Write a Function that calculates quotient & Remainder, when ‘a divides b’\n"
   ]
  },
  {
   "cell_type": "code",
   "execution_count": null,
   "id": "e9993272-da36-4fc0-a8d8-cdff08a4d5a1",
   "metadata": {},
   "outputs": [],
   "source": [
    "from math import *\n",
    "def division(a,b):\n",
    "    q=a//b\n",
    "    r=a%b\n",
    "    print(\"Quotient is:\",q)\n",
    "    print(\"Remainder is:\",r)"
   ]
  },
  {
   "cell_type": "code",
   "execution_count": null,
   "id": "a8376f29-5974-4f97-8727-0e30db54e6f0",
   "metadata": {},
   "outputs": [
    {
     "name": "stdout",
     "output_type": "stream",
     "text": [
      "Quotient is: 3\n",
      "Remainder is: 1\n"
     ]
    }
   ],
   "source": [
    "division(7,2)"
   ]
  },
  {
   "cell_type": "code",
   "execution_count": null,
   "id": "6270be6b-02f7-4c7c-9e49-caf09537858e",
   "metadata": {},
   "outputs": [
    {
     "name": "stdout",
     "output_type": "stream",
     "text": [
      "Quotient is: 0\n",
      "Remainder is: 4\n"
     ]
    }
   ],
   "source": [
    "division(4,5)"
   ]
  },
  {
   "cell_type": "code",
   "execution_count": null,
   "id": "547ed15e-4f1f-442d-9ce4-0ad87adb639b",
   "metadata": {},
   "outputs": [
    {
     "name": "stdout",
     "output_type": "stream",
     "text": [
      "Quotient is: 8\n",
      "Remainder is: 5\n"
     ]
    }
   ],
   "source": [
    "division(77,9)"
   ]
  },
  {
   "cell_type": "code",
   "execution_count": null,
   "id": "1f253edb-0b4a-4f95-916c-254a046f932b",
   "metadata": {},
   "outputs": [
    {
     "name": "stdout",
     "output_type": "stream",
     "text": [
      "Quotient is: 0\n",
      "Remainder is: 34\n"
     ]
    }
   ],
   "source": [
    "division(34,54)"
   ]
  },
  {
   "cell_type": "raw",
   "id": "8d886171-0a29-49c7-8bd2-411cac1d7038",
   "metadata": {},
   "source": [
    "b) Write a program to calculate the roots of the quadratic equation ax^2+bx+c=0?"
   ]
  },
  {
   "cell_type": "code",
   "execution_count": null,
   "id": "f75a38c9-ee29-41e0-82ba-4dade2d402bf",
   "metadata": {},
   "outputs": [],
   "source": [
    "import cmath\n",
    "def f(a,b,c):\n",
    "    r=-b/(2*a)\n",
    "    i=cmath.sqrt(b*b-4*a*c)/(2*a)\n",
    "    print(\"Roots =\",r+i,\",\",r-i)"
   ]
  },
  {
   "cell_type": "code",
   "execution_count": null,
   "id": "ddefd358-590e-42d1-89b1-0b1f51e64dcb",
   "metadata": {},
   "outputs": [
    {
     "name": "stdout",
     "output_type": "stream",
     "text": [
      "Roots = (-0.8333333333333334+1.2801909579781012j) , (-0.8333333333333334-1.2801909579781012j)\n"
     ]
    }
   ],
   "source": [
    "f(3,5,7)"
   ]
  },
  {
   "cell_type": "raw",
   "id": "2323bd85-2665-47ec-ad00-e37e19b3bd30",
   "metadata": {},
   "source": [
    "9) Write a program to calculate the volume & surface area of sphere from it radius given as input."
   ]
  },
  {
   "cell_type": "raw",
   "id": "ff60513f-c5f5-48ca-b389-2493e2f1ad8f",
   "metadata": {},
   "source": [
    "a)Volume of a sphere: V=4/3  πr^3"
   ]
  },
  {
   "cell_type": "code",
   "execution_count": null,
   "id": "0690b76e-ba5a-4652-949c-49f1f6df6934",
   "metadata": {},
   "outputs": [],
   "source": [
    "from math import *\n",
    "def f(r):\n",
    "    v=(4/3)*pi*r**3\n",
    "    print(\"Vloume of speare =\",v)"
   ]
  },
  {
   "cell_type": "code",
   "execution_count": null,
   "id": "e62515b3-44b8-405e-a992-13af8b9138bd",
   "metadata": {},
   "outputs": [
    {
     "name": "stdout",
     "output_type": "stream",
     "text": [
      "Vloume of speare = 113.09733552923254\n"
     ]
    }
   ],
   "source": [
    "f(3)"
   ]
  },
  {
   "cell_type": "raw",
   "id": "ae75d8f2-3b1e-42df-9a60-3b368477d887",
   "metadata": {},
   "source": [
    "b)Surface area of a sphere: A=4πr^2"
   ]
  },
  {
   "cell_type": "code",
   "execution_count": null,
   "id": "43f5cb66-97d2-4d7e-98d6-a7240b14d5ae",
   "metadata": {},
   "outputs": [],
   "source": [
    "from math import *\n",
    "def f(r):\n",
    "    a=4*pi*r**2\n",
    "    print(\"Vloume of speare =\",a)"
   ]
  },
  {
   "cell_type": "code",
   "execution_count": null,
   "id": "95b3328a-9536-4a6c-8eac-4654be6ce8f1",
   "metadata": {},
   "outputs": [
    {
     "name": "stdout",
     "output_type": "stream",
     "text": [
      "Vloume of speare = 113.09733552923255\n"
     ]
    }
   ],
   "source": [
    "f(3)"
   ]
  },
  {
   "cell_type": "raw",
   "id": "a69715cc-2545-4327-90f5-d6b8f5aa8da5",
   "metadata": {},
   "source": [
    "10) Write Python code to find diameter, area and circumference of circle with radius 14."
   ]
  },
  {
   "cell_type": "code",
   "execution_count": null,
   "id": "5f3ffd98-3143-4de9-bfc5-b08b1b46dd99",
   "metadata": {},
   "outputs": [],
   "source": [
    "from math import *\n",
    "def f(r):\n",
    "    d=2*r\n",
    "    a=pi*r**2\n",
    "    c=2*pi*r\n",
    "    print(\"Diameter is =\",d)    \n",
    "    print(\"area is =\",a)\n",
    "    print(\"circumference is =\",c)"
   ]
  },
  {
   "cell_type": "code",
   "execution_count": null,
   "id": "ddfa18a3-9fde-4364-972c-a8557b4f20a7",
   "metadata": {},
   "outputs": [
    {
     "name": "stdout",
     "output_type": "stream",
     "text": [
      "Diameter is = 8\n",
      "area is = 50.26548245743669\n",
      "circumference is = 25.132741228718345\n"
     ]
    }
   ],
   "source": [
    "f(4)"
   ]
  },
  {
   "cell_type": "code",
   "execution_count": null,
   "id": "6cc159d0-4e4f-4b00-b861-54bd55ea4eed",
   "metadata": {},
   "outputs": [],
   "source": []
  },
  {
   "cell_type": "code",
   "execution_count": null,
   "id": "f5ea3bc7-33cd-473b-abe1-3084761f5fc2",
   "metadata": {},
   "outputs": [],
   "source": []
  }
 ],
 "metadata": {
  "kernelspec": {
   "display_name": "Python 3 (ipykernel)",
   "language": "python",
   "name": "python3"
  },
  "language_info": {
   "codemirror_mode": {
    "name": "ipython",
    "version": 3
   },
   "file_extension": ".py",
   "mimetype": "text/x-python",
   "name": "python",
   "nbconvert_exporter": "python",
   "pygments_lexer": "ipython3",
   "version": "3.12.4"
  }
 },
 "nbformat": 4,
 "nbformat_minor": 5
}
