{
 "cells": [
  {
   "cell_type": "code",
   "execution_count": null,
   "id": "2437cd76-2ff4-4e5a-a0bc-d9ccba42e863",
   "metadata": {},
   "outputs": [],
   "source": [
    "Name: Tej Santosh Sutar\n",
    "RollNo:176\n",
    "Class:S.Y B.Sc CS\n",
    "Batch:H \n",
    "Date:31/08/2024\n",
    "Practical No 10. Algebraic and Transcendental equation "
   ]
  },
  {
   "cell_type": "raw",
   "id": "b434d16c-9e56-4b48-b444-fb1d3d1703be",
   "metadata": {},
   "source": [
    "1.\tWrite Python program to obtained the approximate real root of x3-5x\t9 = 0 by using Regula-falsi method with interval [2,3]"
   ]
  },
  {
   "cell_type": "code",
   "execution_count": 1,
   "id": "2c4ac87f-8303-445a-a5fb-6533dcb4fb19",
   "metadata": {},
   "outputs": [],
   "source": [
    "def falsepostion(a,b,e):\n",
    "    i = 1\n",
    "    print(\"\\n** FALSE POSITION METHOD IMPLEMENTATION **\")\n",
    "    condition = True\n",
    "    while condition:\n",
    "        c = (a*f(b)-b*f(a))/(f(b)-f(a))\n",
    "        print(\"Iteration-%d, c = %0.6f and f(c) = %0.6f\" % (i,c,f(c)))\n",
    "        if f(a) * f(c) < 0:\n",
    "            b = c\n",
    "        else:\n",
    "            a=c\n",
    "        i = i+1\n",
    "        condition = abs(f(c)) > e\n",
    "    print(\"\\n Required root is: %0.8f\" % c)"
   ]
  },
  {
   "cell_type": "code",
   "execution_count": 18,
   "id": "742bacbb-7b5a-4b43-a772-3aeebe76ca33",
   "metadata": {},
   "outputs": [],
   "source": [
    "def f(x):\n",
    "    return x**3-5*x-9"
   ]
  },
  {
   "cell_type": "code",
   "execution_count": 20,
   "id": "7dbf78c5-cb32-4a04-a2a8-affbee2378d2",
   "metadata": {},
   "outputs": [
    {
     "name": "stdout",
     "output_type": "stream",
     "text": [
      "\n",
      "** FALSE POSITION METHOD IMPLEMENTATION **\n",
      "Iteration-1, c = 2.785714 and f(c) = -1.310860\n",
      "Iteration-2, c = 2.850875 and f(c) = -0.083923\n",
      "Iteration-3, c = 2.854933 and f(c) = -0.005125\n",
      "Iteration-4, c = 2.855180 and f(c) = -0.000312\n",
      "Iteration-5, c = 2.855196 and f(c) = -0.000019\n",
      "Iteration-6, c = 2.855196 and f(c) = -0.000001\n",
      "Iteration-7, c = 2.855197 and f(c) = -0.000000\n",
      "\n",
      " Required root is: 2.85519654\n"
     ]
    }
   ],
   "source": [
    "falsepostion(2,3,0.000001)"
   ]
  },
  {
   "cell_type": "raw",
   "id": "392aede0-814a-43e5-8ff6-b54ad7783572",
   "metadata": {},
   "source": [
    "2. Write Python program to obtained the approximate real roots of x^3-4x-9 = 0  in [2,3] using Regula-falsi method."
   ]
  },
  {
   "cell_type": "code",
   "execution_count": 24,
   "id": "4a64f189-9b09-4361-9016-eeb90f227b17",
   "metadata": {},
   "outputs": [],
   "source": [
    "def falsepostion(a,b,e):\n",
    "    i = 1\n",
    "    print(\"\\n** FALSE POSITION METHOD IMPLEMENTATION **\")\n",
    "    condition = True\n",
    "    while condition:\n",
    "        c = (a*f(b)-b*f(a))/(f(b)-f(a))\n",
    "        print(\"Iteration-%d, c = %0.6f and f(c) = %0.6f\" % (i,c,f(c)))\n",
    "        if f(a) * f(c) < 0:\n",
    "            b = c\n",
    "        else:\n",
    "            a=c\n",
    "        i = i+1\n",
    "        condition = abs(f(c)) > e\n",
    "    print(\"\\n Required root is: %0.8f\" % c)"
   ]
  },
  {
   "cell_type": "code",
   "execution_count": 26,
   "id": "d68cd1c5-1767-479e-95ce-5bdb050deb24",
   "metadata": {},
   "outputs": [],
   "source": [
    "def f(x):\n",
    "    return x**3-4*x-9"
   ]
  },
  {
   "cell_type": "code",
   "execution_count": 28,
   "id": "62d63e75-594a-4dea-9789-bbb77e55e186",
   "metadata": {},
   "outputs": [
    {
     "name": "stdout",
     "output_type": "stream",
     "text": [
      "\n",
      "** FALSE POSITION METHOD IMPLEMENTATION **\n",
      "Iteration-1, c = 2.600000 and f(c) = -1.824000\n",
      "Iteration-2, c = 2.693252 and f(c) = -0.237227\n",
      "Iteration-3, c = 2.704918 and f(c) = -0.028912\n",
      "Iteration-4, c = 2.706333 and f(c) = -0.003495\n",
      "Iteration-5, c = 2.706504 and f(c) = -0.000422\n",
      "Iteration-6, c = 2.706525 and f(c) = -0.000051\n",
      "Iteration-7, c = 2.706528 and f(c) = -0.000006\n",
      "Iteration-8, c = 2.706528 and f(c) = -0.000001\n",
      "\n",
      " Required root is: 2.70652791\n"
     ]
    }
   ],
   "source": [
    "falsepostion(2,3,0.000001)"
   ]
  },
  {
   "cell_type": "raw",
   "id": "9ade37ee-ee52-4dd0-a9ea-2d72c7fe8300",
   "metadata": {},
   "source": [
    "3. Write Python program to obtained the approximate real root of x3-2x-5 = 0 in [2,3] using Regula-falsi method."
   ]
  },
  {
   "cell_type": "code",
   "execution_count": 30,
   "id": "b62146b1-fe09-4ed6-8c94-5e2073b76614",
   "metadata": {},
   "outputs": [],
   "source": [
    "def falsepostion(a,b,e):\n",
    "    i = 1\n",
    "    print(\"\\n** FALSE POSITION METHOD IMPLEMENTATION **\")\n",
    "    condition = True\n",
    "    while condition:\n",
    "        c = (a*f(b)-b*f(a))/(f(b)-f(a))\n",
    "        print(\"Iteration-%d, c = %0.6f and f(c) = %0.6f\" % (i,c,f(c)))\n",
    "        if f(a) * f(c) < 0:\n",
    "            b = c\n",
    "        else:\n",
    "            a=c\n",
    "        i = i+1\n",
    "        condition = abs(f(c)) > e\n",
    "    print(\"\\n Required root is: %0.8f\" % c)"
   ]
  },
  {
   "cell_type": "code",
   "execution_count": 32,
   "id": "bcd46082-ebd8-4475-9681-c28b05dc90cd",
   "metadata": {},
   "outputs": [],
   "source": [
    "def f(x):\n",
    "    return x**3-2*x-5"
   ]
  },
  {
   "cell_type": "code",
   "execution_count": 34,
   "id": "a6d17423-3eb3-497e-a699-0f9117cf503a",
   "metadata": {},
   "outputs": [
    {
     "name": "stdout",
     "output_type": "stream",
     "text": [
      "\n",
      "** FALSE POSITION METHOD IMPLEMENTATION **\n",
      "Iteration-1, c = 2.058824 and f(c) = -0.390800\n",
      "Iteration-2, c = 2.081264 and f(c) = -0.147204\n",
      "Iteration-3, c = 2.089639 and f(c) = -0.054677\n",
      "Iteration-4, c = 2.092740 and f(c) = -0.020203\n",
      "Iteration-5, c = 2.093884 and f(c) = -0.007451\n",
      "Iteration-6, c = 2.094305 and f(c) = -0.002746\n",
      "Iteration-7, c = 2.094461 and f(c) = -0.001012\n",
      "Iteration-8, c = 2.094518 and f(c) = -0.000373\n",
      "Iteration-9, c = 2.094539 and f(c) = -0.000137\n",
      "Iteration-10, c = 2.094547 and f(c) = -0.000051\n",
      "Iteration-11, c = 2.094550 and f(c) = -0.000019\n",
      "Iteration-12, c = 2.094551 and f(c) = -0.000007\n",
      "Iteration-13, c = 2.094551 and f(c) = -0.000003\n",
      "Iteration-14, c = 2.094551 and f(c) = -0.000001\n",
      "\n",
      " Required root is: 2.09455140\n"
     ]
    }
   ],
   "source": [
    "falsepostion(2,3,0.000001)"
   ]
  },
  {
   "cell_type": "raw",
   "id": "bbaad26a-179f-459e-921a-cd236a85a279",
   "metadata": {},
   "source": [
    "4. Write Python program to obtained the approximate real root of x3-5x-9 = 0 by using Newton Raphson method with interval [x0=2.5]"
   ]
  },
  {
   "cell_type": "code",
   "execution_count": 42,
   "id": "864c57ba-d280-4dae-a607-b7958c44bc95",
   "metadata": {},
   "outputs": [],
   "source": [
    "from math import *\n",
    "def newtonRaphon(x0,e):\n",
    "    print('\\n\\n**NEWTON RAPHSON METHOD IMPLEMENTATION**')\n",
    "    i=1\n",
    "    condition = True\n",
    "    while condition:\n",
    "        if g(x0)==0.0:\n",
    "           print('Divide by zero error!')\n",
    "           break\n",
    "\n",
    "        x1 = x0 - f(x0)/g(x0)\n",
    "        print('Iteration-%d,x1=%0.6f and f(x1) = %0.6f' % (i,x1,f(x1)))\n",
    "        x0 = x1\n",
    "        i=i+1\n",
    "        condition = abs(f(x1))>e\n",
    "        print('\\n Required root is %0.8f' %x1)"
   ]
  },
  {
   "cell_type": "code",
   "execution_count": 48,
   "id": "e83631f9-c230-4401-b788-c692188a2751",
   "metadata": {},
   "outputs": [],
   "source": [
    "def f(x):\n",
    "    return x**3-5*x-9\n",
    "def g(x):\n",
    "    return 3*x**2-5"
   ]
  },
  {
   "cell_type": "code",
   "execution_count": 56,
   "id": "3e2134ef-ef09-4f3f-b909-f00a3c805364",
   "metadata": {},
   "outputs": [
    {
     "name": "stdout",
     "output_type": "stream",
     "text": [
      "\n",
      "\n",
      "**NEWTON RAPHSON METHOD IMPLEMENTATION**\n",
      "Iteration-1,x1=2.927273 and f(x1) = 1.447219\n",
      "\n",
      " Required root is 2.92727273\n",
      "Iteration-2,x1=2.857382 and f(x1) = 0.042556\n",
      "\n",
      " Required root is 2.85738166\n",
      "Iteration-3,x1=2.855199 and f(x1) = 0.000041\n",
      "\n",
      " Required root is 2.85519864\n",
      "Iteration-4,x1=2.855197 and f(x1) = 0.000000\n",
      "\n",
      " Required root is 2.85519654\n"
     ]
    }
   ],
   "source": [
    "newtonRaphon(2.5,0.000001)"
   ]
  },
  {
   "cell_type": "raw",
   "id": "061e5b5c-ec0f-48fe-84b6-5905d2bbc3b4",
   "metadata": {},
   "source": [
    "5 .Write Python program to obtained a real root of f (x) = x3-8x-4 = 0 by using Newton–Raphson method."
   ]
  },
  {
   "cell_type": "code",
   "execution_count": 42,
   "id": "db012f1e-e375-4d91-894c-af05f53ba545",
   "metadata": {},
   "outputs": [],
   "source": [
    "from math import *\n",
    "def newtonRaphon(x0,e):\n",
    "    print('\\n\\n**NEWTON RAPHSON METHOD IMPLEMENTATION**')\n",
    "    i=1\n",
    "    condition = True\n",
    "    while condition:\n",
    "        if g(x0)==0.0:\n",
    "           print('Divide by zero error!')\n",
    "           break\n",
    "\n",
    "        x1 = x0 - f(x0)/g(x0)\n",
    "        print('Iteration-%d,x1=%0.6f and f(x1) = %0.6f' % (i,x1,f(x1)))\n",
    "        x0 = x1\n",
    "        i=i+1\n",
    "        condition = abs(f(x1))>e\n",
    "        print('\\n Required root is %0.8f' %x1)"
   ]
  },
  {
   "cell_type": "code",
   "execution_count": 66,
   "id": "15542ec7-c231-4cb2-8e75-9c825c6d2101",
   "metadata": {},
   "outputs": [],
   "source": [
    "def f(x):\n",
    "    return x**3-8*x-4\n",
    "def g(x):\n",
    "    return 3*x**2-8"
   ]
  },
  {
   "cell_type": "code",
   "execution_count": 68,
   "id": "5f1c0971-f5ba-4ef8-b6b6-c781f577f366",
   "metadata": {},
   "outputs": [
    {
     "name": "stdout",
     "output_type": "stream",
     "text": [
      "\n",
      "\n",
      "**NEWTON RAPHSON METHOD IMPLEMENTATION**\n",
      "Iteration-1,x1=3.052632 and f(x1) = 0.025077\n",
      "\n",
      " Required root is 3.05263158\n",
      "Iteration-2,x1=3.051375 and f(x1) = 0.000014\n",
      "\n",
      " Required root is 3.05137497\n",
      "Iteration-3,x1=3.051374 and f(x1) = 0.000000\n",
      "\n",
      " Required root is 3.05137424\n"
     ]
    }
   ],
   "source": [
    "newtonRaphon(3,0.000001)"
   ]
  },
  {
   "cell_type": "raw",
   "id": "99b71301-3f24-4ec8-8d1d-6e3ef66c84c2",
   "metadata": {},
   "source": [
    "6. Write Python program to estimate a root of an equation f (x) = 3x-cos(x)+1 using Newton–Raphson method correct up to four decimal places."
   ]
  },
  {
   "cell_type": "code",
   "execution_count": 70,
   "id": "6fee530e-bbd1-4c82-a264-69fdaac3bcae",
   "metadata": {},
   "outputs": [],
   "source": [
    "from math import *\n",
    "def newtonRaphon(x0,e):\n",
    "    print('\\n\\n**NEWTON RAPHSON METHOD IMPLEMENTATION**')\n",
    "    i=1\n",
    "    condition = True\n",
    "    while condition:\n",
    "        if g(x0)==0.0:\n",
    "           print('Divide by zero error!')\n",
    "           break\n",
    "\n",
    "        x1 = x0 - f(x0)/g(x0)\n",
    "        print('Iteration-%d,x1=%0.6f and f(x1) = %0.6f' % (i,x1,f(x1)))\n",
    "        x0 = x1\n",
    "        i=i+1\n",
    "        condition = abs(f(x1))>e\n",
    "        print('\\n Required root is %0.8f' %x1)"
   ]
  },
  {
   "cell_type": "code",
   "execution_count": 86,
   "id": "38de0172-6721-4474-838b-65fad2336f39",
   "metadata": {},
   "outputs": [],
   "source": [
    "def f(x):\n",
    "    return 3*x-cos(x)-1\n",
    "def g(x):\n",
    "    return 3+sin(x)"
   ]
  },
  {
   "cell_type": "code",
   "execution_count": 88,
   "id": "d430a0d9-90d2-47cd-ba19-7ad01990fa6e",
   "metadata": {},
   "outputs": [
    {
     "name": "stdout",
     "output_type": "stream",
     "text": [
      "\n",
      "\n",
      "**NEWTON RAPHSON METHOD IMPLEMENTATION**\n",
      "Iteration-1,x1=0.471043 and f(x1) = -0.477965\n",
      "\n",
      " Required root is 0.47104345\n",
      "Iteration-2,x1=0.609431 and f(x1) = 0.008319\n",
      "\n",
      " Required root is 0.60943091\n",
      "Iteration-3,x1=0.607102 and f(x1) = 0.000002\n",
      "\n",
      " Required root is 0.60710227\n"
     ]
    }
   ],
   "source": [
    "newtonRaphon(2.5,0.00001)"
   ]
  },
  {
   "cell_type": "raw",
   "id": "97300817-3616-42dc-a82c-c3a9491e4f21",
   "metadata": {},
   "source": [
    "7. Write Python program to estimate a root of an equation f (x) = 3x^2 + 4x-10 using Newton–Raphson method correct up to four decimal places."
   ]
  },
  {
   "cell_type": "code",
   "execution_count": 108,
   "id": "79165900-eea2-48f7-9bc5-d46b1582b12c",
   "metadata": {},
   "outputs": [],
   "source": [
    "from math import *\n",
    "def newtonRaphon(x0,e):\n",
    "    print('\\n\\n**NEWTON RAPHSON METHOD IMPLEMENTATION**')\n",
    "    i=1\n",
    "    condition = True\n",
    "    while condition:\n",
    "        if g(x0)==0.0:\n",
    "           print('Divide by zero error!')\n",
    "              \n",
    "           break\n",
    "\n",
    "        x1 = x0 - f(x0)/g(x0)\n",
    "        print('Iteration-%d,x1=%0.6f and f(x1) = %0.6f' % (i,x1,f(x1)))\n",
    "        x0 = x1\n",
    "        i=i+1\n",
    "        condition = abs(f(x1))>e\n",
    "    print('\\n Required root is %0.8f' %x1)"
   ]
  },
  {
   "cell_type": "code",
   "execution_count": 114,
   "id": "d8da0646-b153-4a75-9deb-8a8b26355a73",
   "metadata": {},
   "outputs": [],
   "source": [
    "def f(x):\n",
    "    return 3*x**2+4*x-10\n",
    "def g(x):\n",
    "    return 6*x+4"
   ]
  },
  {
   "cell_type": "code",
   "execution_count": 116,
   "id": "71a9ad51-68d1-45ae-b547-9a6e93aef059",
   "metadata": {},
   "outputs": [
    {
     "name": "stdout",
     "output_type": "stream",
     "text": [
      "\n",
      "\n",
      "**NEWTON RAPHSON METHOD IMPLEMENTATION**\n",
      "Iteration-1,x1=-6.500000 and f(x1) = 90.750000\n",
      "Iteration-2,x1=-3.907143 and f(x1) = 20.168724\n",
      "Iteration-3,x1=-2.869809 and f(x1) = 3.228182\n",
      "Iteration-4,x1=-2.625599 and f(x1) = 0.178916\n",
      "Iteration-5,x1=-2.610377 and f(x1) = 0.000695\n",
      "Iteration-6,x1=-2.610317 and f(x1) = 0.000000\n",
      "\n",
      " Required root is -2.61031730\n"
     ]
    }
   ],
   "source": [
    "newtonRaphon(-1,0.000001)"
   ]
  },
  {
   "cell_type": "code",
   "execution_count": null,
   "id": "290a96c6-3617-4dfa-a596-fb060bd5e51c",
   "metadata": {},
   "outputs": [],
   "source": []
  }
 ],
 "metadata": {
  "kernelspec": {
   "display_name": "Python 3 (ipykernel)",
   "language": "python",
   "name": "python3"
  },
  "language_info": {
   "codemirror_mode": {
    "name": "ipython",
    "version": 3
   },
   "file_extension": ".py",
   "mimetype": "text/x-python",
   "name": "python",
   "nbconvert_exporter": "python",
   "pygments_lexer": "ipython3",
   "version": "3.12.4"
  }
 },
 "nbformat": 4,
 "nbformat_minor": 5
}
