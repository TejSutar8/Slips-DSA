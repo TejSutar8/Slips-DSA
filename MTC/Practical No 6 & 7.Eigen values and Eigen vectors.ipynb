{
 "cells": [
  {
   "cell_type": "raw",
   "id": "0e46ea6c-819e-4886-b922-ecaaedc0848b",
   "metadata": {},
   "source": [
    "Name: Tej Santosh Sutar\n",
    "RollNo:176\n",
    "Class:S.Y B.Sc CS\n",
    "Batch:H \n",
    "Date:20/07/2024\n",
    "Practical No 6 & 7.Eigen values and Eigen vectors"
   ]
  },
  {
   "cell_type": "raw",
   "id": "e83e9ed0-6c9f-431c-b341-a50901e42aea",
   "metadata": {},
   "source": [
    "1. Using Python code construct ones matrix of order 10 × 10 and hence find determinant, trace and\n",
    "transpose of it."
   ]
  },
  {
   "cell_type": "code",
   "execution_count": 27,
   "id": "691c6f59-0934-47f3-b5ac-18618075e891",
   "metadata": {},
   "outputs": [
    {
     "data": {
      "text/latex": [
       "$\\displaystyle \\left[\\begin{matrix}1 & 1 & 1 & 1 & 1 & 1 & 1 & 1 & 1 & 1\\\\1 & 1 & 1 & 1 & 1 & 1 & 1 & 1 & 1 & 1\\\\1 & 1 & 1 & 1 & 1 & 1 & 1 & 1 & 1 & 1\\\\1 & 1 & 1 & 1 & 1 & 1 & 1 & 1 & 1 & 1\\\\1 & 1 & 1 & 1 & 1 & 1 & 1 & 1 & 1 & 1\\\\1 & 1 & 1 & 1 & 1 & 1 & 1 & 1 & 1 & 1\\\\1 & 1 & 1 & 1 & 1 & 1 & 1 & 1 & 1 & 1\\\\1 & 1 & 1 & 1 & 1 & 1 & 1 & 1 & 1 & 1\\\\1 & 1 & 1 & 1 & 1 & 1 & 1 & 1 & 1 & 1\\\\1 & 1 & 1 & 1 & 1 & 1 & 1 & 1 & 1 & 1\\end{matrix}\\right]$"
      ],
      "text/plain": [
       "Matrix([\n",
       "[1, 1, 1, 1, 1, 1, 1, 1, 1, 1],\n",
       "[1, 1, 1, 1, 1, 1, 1, 1, 1, 1],\n",
       "[1, 1, 1, 1, 1, 1, 1, 1, 1, 1],\n",
       "[1, 1, 1, 1, 1, 1, 1, 1, 1, 1],\n",
       "[1, 1, 1, 1, 1, 1, 1, 1, 1, 1],\n",
       "[1, 1, 1, 1, 1, 1, 1, 1, 1, 1],\n",
       "[1, 1, 1, 1, 1, 1, 1, 1, 1, 1],\n",
       "[1, 1, 1, 1, 1, 1, 1, 1, 1, 1],\n",
       "[1, 1, 1, 1, 1, 1, 1, 1, 1, 1],\n",
       "[1, 1, 1, 1, 1, 1, 1, 1, 1, 1]])"
      ]
     },
     "execution_count": 27,
     "metadata": {},
     "output_type": "execute_result"
    }
   ],
   "source": [
    "from sympy import*\n",
    "A=ones(10,10)\n",
    "A"
   ]
  },
  {
   "cell_type": "code",
   "execution_count": 33,
   "id": "de8af76d-c31f-44b3-a607-4c89f68f823c",
   "metadata": {},
   "outputs": [
    {
     "data": {
      "text/latex": [
       "$\\displaystyle 0$"
      ],
      "text/plain": [
       "0"
      ]
     },
     "execution_count": 33,
     "metadata": {},
     "output_type": "execute_result"
    }
   ],
   "source": [
    "A.det()"
   ]
  },
  {
   "cell_type": "code",
   "execution_count": 35,
   "id": "56720a73-39c4-400c-8ec3-ee6a70a9350a",
   "metadata": {},
   "outputs": [
    {
     "data": {
      "text/latex": [
       "$\\displaystyle \\left[\\begin{matrix}1 & 1 & 1 & 1 & 1 & 1 & 1 & 1 & 1 & 1\\\\1 & 1 & 1 & 1 & 1 & 1 & 1 & 1 & 1 & 1\\\\1 & 1 & 1 & 1 & 1 & 1 & 1 & 1 & 1 & 1\\\\1 & 1 & 1 & 1 & 1 & 1 & 1 & 1 & 1 & 1\\\\1 & 1 & 1 & 1 & 1 & 1 & 1 & 1 & 1 & 1\\\\1 & 1 & 1 & 1 & 1 & 1 & 1 & 1 & 1 & 1\\\\1 & 1 & 1 & 1 & 1 & 1 & 1 & 1 & 1 & 1\\\\1 & 1 & 1 & 1 & 1 & 1 & 1 & 1 & 1 & 1\\\\1 & 1 & 1 & 1 & 1 & 1 & 1 & 1 & 1 & 1\\\\1 & 1 & 1 & 1 & 1 & 1 & 1 & 1 & 1 & 1\\end{matrix}\\right]$"
      ],
      "text/plain": [
       "Matrix([\n",
       "[1, 1, 1, 1, 1, 1, 1, 1, 1, 1],\n",
       "[1, 1, 1, 1, 1, 1, 1, 1, 1, 1],\n",
       "[1, 1, 1, 1, 1, 1, 1, 1, 1, 1],\n",
       "[1, 1, 1, 1, 1, 1, 1, 1, 1, 1],\n",
       "[1, 1, 1, 1, 1, 1, 1, 1, 1, 1],\n",
       "[1, 1, 1, 1, 1, 1, 1, 1, 1, 1],\n",
       "[1, 1, 1, 1, 1, 1, 1, 1, 1, 1],\n",
       "[1, 1, 1, 1, 1, 1, 1, 1, 1, 1],\n",
       "[1, 1, 1, 1, 1, 1, 1, 1, 1, 1],\n",
       "[1, 1, 1, 1, 1, 1, 1, 1, 1, 1]])"
      ]
     },
     "execution_count": 35,
     "metadata": {},
     "output_type": "execute_result"
    }
   ],
   "source": [
    "A.T"
   ]
  },
  {
   "cell_type": "raw",
   "id": "de3e4143-1e77-4751-a8e6-e64ee19a5d33",
   "metadata": {},
   "source": [
    "2. Using Python code, find determinant and inverse of the matrix if exist \n",
    "𝐴 = [4 2 2]\n",
    "    [2 4 2]\n",
    "    [2 2 4]"
   ]
  },
  {
   "cell_type": "code",
   "execution_count": 7,
   "id": "b09ea035-6f8f-4f41-abf3-aa96339d5c28",
   "metadata": {},
   "outputs": [
    {
     "data": {
      "text/latex": [
       "$\\displaystyle \\left[\\begin{matrix}4 & 2 & 2\\\\2 & 4 & 2\\\\2 & 2 & 4\\end{matrix}\\right]$"
      ],
      "text/plain": [
       "Matrix([\n",
       "[4, 2, 2],\n",
       "[2, 4, 2],\n",
       "[2, 2, 4]])"
      ]
     },
     "execution_count": 7,
     "metadata": {},
     "output_type": "execute_result"
    }
   ],
   "source": [
    "from sympy import*\n",
    "A=Matrix([[4,2,2],[2,4,2],[2,2,4]])\n",
    "A"
   ]
  },
  {
   "cell_type": "code",
   "execution_count": 9,
   "id": "d0ea763e-88e8-4f3f-9a2d-832f4e5e77ec",
   "metadata": {},
   "outputs": [
    {
     "data": {
      "text/latex": [
       "$\\displaystyle 32$"
      ],
      "text/plain": [
       "32"
      ]
     },
     "execution_count": 9,
     "metadata": {},
     "output_type": "execute_result"
    }
   ],
   "source": [
    "A.det()"
   ]
  },
  {
   "cell_type": "code",
   "execution_count": 11,
   "id": "5767deda-a037-44ea-a047-689c441de008",
   "metadata": {},
   "outputs": [
    {
     "data": {
      "text/latex": [
       "$\\displaystyle \\left[\\begin{matrix}\\frac{3}{8} & - \\frac{1}{8} & - \\frac{1}{8}\\\\- \\frac{1}{8} & \\frac{3}{8} & - \\frac{1}{8}\\\\- \\frac{1}{8} & - \\frac{1}{8} & \\frac{3}{8}\\end{matrix}\\right]$"
      ],
      "text/plain": [
       "Matrix([\n",
       "[ 3/8, -1/8, -1/8],\n",
       "[-1/8,  3/8, -1/8],\n",
       "[-1/8, -1/8,  3/8]])"
      ]
     },
     "execution_count": 11,
     "metadata": {},
     "output_type": "execute_result"
    }
   ],
   "source": [
    "A.inv()"
   ]
  },
  {
   "cell_type": "raw",
   "id": "eef02699-8a80-40fb-b31b-c39bbb1a3da5",
   "metadata": {},
   "source": [
    "3. Write Python code to verify\n",
    "(AB)−1 = B−1A−1\n",
    "(Use proper matrices A and B)."
   ]
  },
  {
   "cell_type": "code",
   "execution_count": 39,
   "id": "91001f2b-a233-48bf-bd8d-7dffb9865dde",
   "metadata": {},
   "outputs": [],
   "source": [
    "from sympy import*\n",
    "A=Matrix([[4,2,2],[2,4,2],[2,2,4]])\n",
    "B=Matrix([[2,2,4],[2,4,2],[4,2,2]])"
   ]
  },
  {
   "cell_type": "code",
   "execution_count": 41,
   "id": "41a62b97-d14d-4c97-b800-b105bbcdc8e5",
   "metadata": {},
   "outputs": [
    {
     "data": {
      "text/latex": [
       "$\\displaystyle \\left[\\begin{matrix}4 & 2 & 2\\\\2 & 4 & 2\\\\2 & 2 & 4\\end{matrix}\\right]$"
      ],
      "text/plain": [
       "Matrix([\n",
       "[4, 2, 2],\n",
       "[2, 4, 2],\n",
       "[2, 2, 4]])"
      ]
     },
     "execution_count": 41,
     "metadata": {},
     "output_type": "execute_result"
    }
   ],
   "source": [
    "A"
   ]
  },
  {
   "cell_type": "code",
   "execution_count": 43,
   "id": "291c6862-e1b1-4d1e-9151-3a5d8a54ab3b",
   "metadata": {},
   "outputs": [
    {
     "data": {
      "text/latex": [
       "$\\displaystyle \\left[\\begin{matrix}2 & 2 & 4\\\\2 & 4 & 2\\\\4 & 2 & 2\\end{matrix}\\right]$"
      ],
      "text/plain": [
       "Matrix([\n",
       "[2, 2, 4],\n",
       "[2, 4, 2],\n",
       "[4, 2, 2]])"
      ]
     },
     "execution_count": 43,
     "metadata": {},
     "output_type": "execute_result"
    }
   ],
   "source": [
    "B"
   ]
  },
  {
   "cell_type": "code",
   "execution_count": 45,
   "id": "7a3c93c9-fc9f-4cdd-ad2c-4b9c906bfbfb",
   "metadata": {},
   "outputs": [
    {
     "data": {
      "text/latex": [
       "$\\displaystyle \\left[\\begin{matrix}\\frac{3}{8} & - \\frac{1}{8} & - \\frac{1}{8}\\\\- \\frac{1}{8} & \\frac{3}{8} & - \\frac{1}{8}\\\\- \\frac{1}{8} & - \\frac{1}{8} & \\frac{3}{8}\\end{matrix}\\right]$"
      ],
      "text/plain": [
       "Matrix([\n",
       "[ 3/8, -1/8, -1/8],\n",
       "[-1/8,  3/8, -1/8],\n",
       "[-1/8, -1/8,  3/8]])"
      ]
     },
     "execution_count": 45,
     "metadata": {},
     "output_type": "execute_result"
    }
   ],
   "source": [
    "A.inv()"
   ]
  },
  {
   "cell_type": "code",
   "execution_count": 47,
   "id": "68724aa9-f1b8-4eb1-a44b-687bb86d62a0",
   "metadata": {},
   "outputs": [
    {
     "data": {
      "text/latex": [
       "$\\displaystyle \\left[\\begin{matrix}- \\frac{1}{8} & - \\frac{1}{8} & \\frac{3}{8}\\\\- \\frac{1}{8} & \\frac{3}{8} & - \\frac{1}{8}\\\\\\frac{3}{8} & - \\frac{1}{8} & - \\frac{1}{8}\\end{matrix}\\right]$"
      ],
      "text/plain": [
       "Matrix([\n",
       "[-1/8, -1/8,  3/8],\n",
       "[-1/8,  3/8, -1/8],\n",
       "[ 3/8, -1/8, -1/8]])"
      ]
     },
     "execution_count": 47,
     "metadata": {},
     "output_type": "execute_result"
    }
   ],
   "source": [
    "B.inv()"
   ]
  },
  {
   "cell_type": "code",
   "execution_count": 49,
   "id": "3abf2f76-6835-4ced-b0a7-1f7217854f0b",
   "metadata": {},
   "outputs": [
    {
     "data": {
      "text/latex": [
       "$\\displaystyle \\left[\\begin{matrix}- \\frac{5}{64} & - \\frac{5}{64} & \\frac{11}{64}\\\\- \\frac{5}{64} & \\frac{11}{64} & - \\frac{5}{64}\\\\\\frac{11}{64} & - \\frac{5}{64} & - \\frac{5}{64}\\end{matrix}\\right]$"
      ],
      "text/plain": [
       "Matrix([\n",
       "[-5/64, -5/64, 11/64],\n",
       "[-5/64, 11/64, -5/64],\n",
       "[11/64, -5/64, -5/64]])"
      ]
     },
     "execution_count": 49,
     "metadata": {},
     "output_type": "execute_result"
    }
   ],
   "source": [
    "(A*B).inv()"
   ]
  },
  {
   "cell_type": "code",
   "execution_count": 55,
   "id": "0c3a24fb-71f2-4105-a2d3-a38458cfd8a2",
   "metadata": {},
   "outputs": [
    {
     "data": {
      "text/latex": [
       "$\\displaystyle \\left[\\begin{matrix}- \\frac{5}{64} & - \\frac{5}{64} & \\frac{11}{64}\\\\- \\frac{5}{64} & \\frac{11}{64} & - \\frac{5}{64}\\\\\\frac{11}{64} & - \\frac{5}{64} & - \\frac{5}{64}\\end{matrix}\\right]$"
      ],
      "text/plain": [
       "Matrix([\n",
       "[-5/64, -5/64, 11/64],\n",
       "[-5/64, 11/64, -5/64],\n",
       "[11/64, -5/64, -5/64]])"
      ]
     },
     "execution_count": 55,
     "metadata": {},
     "output_type": "execute_result"
    }
   ],
   "source": [
    "B.inv()*A.inv()"
   ]
  },
  {
   "cell_type": "code",
   "execution_count": 59,
   "id": "8efd1bdd-1f0a-41f8-806d-c9d6dc55a008",
   "metadata": {},
   "outputs": [
    {
     "data": {
      "text/plain": [
       "True"
      ]
     },
     "execution_count": 59,
     "metadata": {},
     "output_type": "execute_result"
    }
   ],
   "source": [
    "(A*B).inv()==B.inv()*A.inv()"
   ]
  },
  {
   "cell_type": "raw",
   "id": "59f7cdd8-72aa-456d-baeb-916c62f85388",
   "metadata": {},
   "source": [
    "4. Using sympy module of python, find the following terms of vector x = [1, -5, 0] and\n",
    "y = [2, 3, -1]. \n"
   ]
  },
  {
   "cell_type": "code",
   "execution_count": 19,
   "id": "59544f40-36e4-43f4-b474-71a63b5ec2cf",
   "metadata": {},
   "outputs": [],
   "source": [
    "from sympy import*\n",
    "X=Matrix([1,-5,0])\n",
    "Y=Matrix([2, 3, -1])"
   ]
  },
  {
   "cell_type": "code",
   "execution_count": 21,
   "id": "83e3f828-ebf4-4039-b08a-88a6862fbbf2",
   "metadata": {},
   "outputs": [
    {
     "data": {
      "text/latex": [
       "$\\displaystyle \\left[\\begin{matrix}1\\\\-5\\\\0\\end{matrix}\\right]$"
      ],
      "text/plain": [
       "Matrix([\n",
       "[ 1],\n",
       "[-5],\n",
       "[ 0]])"
      ]
     },
     "execution_count": 21,
     "metadata": {},
     "output_type": "execute_result"
    }
   ],
   "source": [
    "X"
   ]
  },
  {
   "cell_type": "code",
   "execution_count": 79,
   "id": "a9442f5e-226c-47aa-94ae-c0eb528f1fbc",
   "metadata": {},
   "outputs": [
    {
     "data": {
      "text/latex": [
       "$\\displaystyle \\left[\\begin{matrix}2\\\\3\\\\-1\\end{matrix}\\right]$"
      ],
      "text/plain": [
       "Matrix([\n",
       "[ 2],\n",
       "[ 3],\n",
       "[-1]])"
      ]
     },
     "execution_count": 79,
     "metadata": {},
     "output_type": "execute_result"
    }
   ],
   "source": [
    "Y"
   ]
  },
  {
   "cell_type": "raw",
   "id": "1b617d87-bb7a-4478-92a0-aab513af146f",
   "metadata": {},
   "source": [
    "a. 5𝑥"
   ]
  },
  {
   "cell_type": "code",
   "execution_count": 81,
   "id": "99df6f9c-591f-466b-94a0-6030a9ffc635",
   "metadata": {},
   "outputs": [
    {
     "data": {
      "text/latex": [
       "$\\displaystyle \\left[\\begin{matrix}5\\\\-25\\\\0\\end{matrix}\\right]$"
      ],
      "text/plain": [
       "Matrix([\n",
       "[  5],\n",
       "[-25],\n",
       "[  0]])"
      ]
     },
     "execution_count": 81,
     "metadata": {},
     "output_type": "execute_result"
    }
   ],
   "source": [
    "5*X"
   ]
  },
  {
   "cell_type": "raw",
   "id": "9b93f28c-88f9-4460-9a24-0e02b31b4788",
   "metadata": {},
   "source": [
    " b. 𝑥 + 𝑦 "
   ]
  },
  {
   "cell_type": "code",
   "execution_count": 83,
   "id": "278a74da-5cb0-4ad9-a33d-d53fa4aa5b25",
   "metadata": {},
   "outputs": [
    {
     "data": {
      "text/latex": [
       "$\\displaystyle \\left[\\begin{matrix}3\\\\-2\\\\-1\\end{matrix}\\right]$"
      ],
      "text/plain": [
       "Matrix([\n",
       "[ 3],\n",
       "[-2],\n",
       "[-1]])"
      ]
     },
     "execution_count": 83,
     "metadata": {},
     "output_type": "execute_result"
    }
   ],
   "source": [
    "X+Y"
   ]
  },
  {
   "cell_type": "raw",
   "id": "ddf96a9e-cbe1-4987-8641-0b0e995a2c22",
   "metadata": {},
   "source": [
    "c. 𝑥 − 3y"
   ]
  },
  {
   "cell_type": "code",
   "execution_count": 89,
   "id": "ef932874-8cc0-448a-b13c-dd0bbea6e643",
   "metadata": {},
   "outputs": [
    {
     "data": {
      "text/latex": [
       "$\\displaystyle \\left[\\begin{matrix}-5\\\\-14\\\\3\\end{matrix}\\right]$"
      ],
      "text/plain": [
       "Matrix([\n",
       "[ -5],\n",
       "[-14],\n",
       "[  3]])"
      ]
     },
     "execution_count": 89,
     "metadata": {},
     "output_type": "execute_result"
    }
   ],
   "source": [
    "X-3*Y"
   ]
  },
  {
   "cell_type": "raw",
   "id": "89c24c40-8171-49da-a30d-85a47c450df7",
   "metadata": {},
   "source": [
    "5. Declare the matrix\n",
    " A= [5 2 5 4]\n",
    "    [10 3 4 6]\n",
    "    [2 0 −1 11]\n",
    "find a row echelon form and the rank of matrix A."
   ]
  },
  {
   "cell_type": "code",
   "execution_count": 23,
   "id": "483f8f5f-fd6e-45a0-9cc0-d5c2c7da9dd3",
   "metadata": {},
   "outputs": [],
   "source": [
    "from sympy import*\n",
    "A=Matrix([[1,-5,0,4],[10,3,4,6],[2,0,-1,11]])"
   ]
  },
  {
   "cell_type": "code",
   "execution_count": 25,
   "id": "3e45b755-2ac6-4ea6-b96c-b3a69660c25b",
   "metadata": {},
   "outputs": [
    {
     "data": {
      "text/latex": [
       "$\\displaystyle \\left[\\begin{matrix}1 & -5 & 0 & 4\\\\10 & 3 & 4 & 6\\\\2 & 0 & -1 & 11\\end{matrix}\\right]$"
      ],
      "text/plain": [
       "Matrix([\n",
       "[ 1, -5,  0,  4],\n",
       "[10,  3,  4,  6],\n",
       "[ 2,  0, -1, 11]])"
      ]
     },
     "execution_count": 25,
     "metadata": {},
     "output_type": "execute_result"
    }
   ],
   "source": [
    "A"
   ]
  },
  {
   "cell_type": "code",
   "execution_count": 27,
   "id": "a4b16c95-de0e-4223-b8d9-ead51a25b439",
   "metadata": {},
   "outputs": [
    {
     "data": {
      "text/plain": [
       "(Matrix([\n",
       " [1, 0, 0,  262/93],\n",
       " [0, 1, 0,  -22/93],\n",
       " [0, 0, 1, -499/93]]),\n",
       " (0, 1, 2))"
      ]
     },
     "execution_count": 27,
     "metadata": {},
     "output_type": "execute_result"
    }
   ],
   "source": [
    "A.rref()"
   ]
  },
  {
   "cell_type": "code",
   "execution_count": 29,
   "id": "f7a97ec0-c604-466b-a86c-224cbc68ed30",
   "metadata": {},
   "outputs": [
    {
     "data": {
      "text/plain": [
       "3"
      ]
     },
     "execution_count": 29,
     "metadata": {},
     "output_type": "execute_result"
    }
   ],
   "source": [
    "A.rank()"
   ]
  },
  {
   "cell_type": "raw",
   "id": "3933f809-543f-4e37-bf82-e2dcf99df863",
   "metadata": {},
   "source": [
    "6. Write python code to perform the 𝑅2 + 2𝑅1\n",
    "row operation on given matrix.\n",
    " 𝑅 =[1 1 1]\n",
    "    [2 2 2]\n",
    "    [3 3 3]"
   ]
  },
  {
   "cell_type": "code",
   "execution_count": 35,
   "id": "1e1fb9ec-7e9e-4a2d-83dd-c5ee93a6dea8",
   "metadata": {},
   "outputs": [],
   "source": [
    "from sympy import*\n",
    "R=Matrix([[1,1,1],[2,2,2],[3,3,3]])"
   ]
  },
  {
   "cell_type": "code",
   "execution_count": 43,
   "id": "bbb1da59-2470-4f00-930e-8b9b0fd2e1fe",
   "metadata": {},
   "outputs": [
    {
     "data": {
      "text/latex": [
       "$\\displaystyle \\left[\\begin{matrix}1 & 1 & 1\\\\4 & 4 & 4\\\\3 & 3 & 3\\end{matrix}\\right]$"
      ],
      "text/plain": [
       "Matrix([\n",
       "[1, 1, 1],\n",
       "[4, 4, 4],\n",
       "[3, 3, 3]])"
      ]
     },
     "execution_count": 43,
     "metadata": {},
     "output_type": "execute_result"
    }
   ],
   "source": [
    "R"
   ]
  },
  {
   "cell_type": "code",
   "execution_count": 45,
   "id": "69921433-6bfd-48dc-bdb9-20ce79f33adf",
   "metadata": {},
   "outputs": [],
   "source": [
    "R[1,:]=R.row(1)+2*R.row(0)"
   ]
  },
  {
   "cell_type": "code",
   "execution_count": 47,
   "id": "8d2d2cd3-4a3f-47c9-ad3b-d239978b9407",
   "metadata": {},
   "outputs": [
    {
     "data": {
      "text/latex": [
       "$\\displaystyle \\left[\\begin{matrix}1 & 1 & 1\\\\6 & 6 & 6\\\\3 & 3 & 3\\end{matrix}\\right]$"
      ],
      "text/plain": [
       "Matrix([\n",
       "[1, 1, 1],\n",
       "[6, 6, 6],\n",
       "[3, 3, 3]])"
      ]
     },
     "execution_count": 47,
     "metadata": {},
     "output_type": "execute_result"
    }
   ],
   "source": [
    "R"
   ]
  },
  {
   "cell_type": "raw",
   "id": "1312400a-ba36-45e8-8ab3-aaca45afa8dc",
   "metadata": {},
   "source": [
    "7. Using Python accept the matrix \n",
    "  A=[1,-3,2,-4]\n",
    "    [-3,9,-1,5]\n",
    "    [5,-2,6,-3]\n",
    "    [-4,12,2,7]\n",
    "Find the Null space, Column space and rank of the matrix."
   ]
  },
  {
   "cell_type": "code",
   "execution_count": 57,
   "id": "ab471dcc-702c-4ab8-bcd3-093352f18363",
   "metadata": {},
   "outputs": [
    {
     "data": {
      "text/latex": [
       "$\\displaystyle \\left[\\begin{matrix}1 & -3 & 2 & -4\\\\-3 & 9 & -1 & 5\\\\5 & -2 & 6 & -3\\\\-4 & 12 & 2 & 7\\end{matrix}\\right]$"
      ],
      "text/plain": [
       "Matrix([\n",
       "[ 1, -3,  2, -4],\n",
       "[-3,  9, -1,  5],\n",
       "[ 5, -2,  6, -3],\n",
       "[-4, 12,  2,  7]])"
      ]
     },
     "execution_count": 57,
     "metadata": {},
     "output_type": "execute_result"
    }
   ],
   "source": [
    "from sympy import*\n",
    "A=Matrix([[1,-3,2,-4],[-3,9,-1,5],[5,-2,6,-3],[-4,12,2,7]])\n",
    "A"
   ]
  },
  {
   "cell_type": "code",
   "execution_count": 59,
   "id": "fff570c6-cea0-4c14-bc0b-9f9a655e56a3",
   "metadata": {},
   "outputs": [
    {
     "data": {
      "text/plain": [
       "[]"
      ]
     },
     "execution_count": 59,
     "metadata": {},
     "output_type": "execute_result"
    }
   ],
   "source": [
    "A.nullspace()"
   ]
  },
  {
   "cell_type": "code",
   "execution_count": 61,
   "id": "fb13c61b-1697-4de6-882e-c16e0a5d2ecb",
   "metadata": {},
   "outputs": [
    {
     "data": {
      "text/plain": [
       "[Matrix([\n",
       " [ 1],\n",
       " [-3],\n",
       " [ 5],\n",
       " [-4]]),\n",
       " Matrix([\n",
       " [-3],\n",
       " [ 9],\n",
       " [-2],\n",
       " [12]]),\n",
       " Matrix([\n",
       " [ 2],\n",
       " [-1],\n",
       " [ 6],\n",
       " [ 2]]),\n",
       " Matrix([\n",
       " [-4],\n",
       " [ 5],\n",
       " [-3],\n",
       " [ 7]])]"
      ]
     },
     "execution_count": 61,
     "metadata": {},
     "output_type": "execute_result"
    }
   ],
   "source": [
    "A.columnspace()"
   ]
  },
  {
   "cell_type": "code",
   "execution_count": 63,
   "id": "abe10688-76a1-4fc9-ac81-8ac385c02e4b",
   "metadata": {},
   "outputs": [
    {
     "data": {
      "text/plain": [
       "4"
      ]
     },
     "execution_count": 63,
     "metadata": {},
     "output_type": "execute_result"
    }
   ],
   "source": [
    "A.rank()"
   ]
  },
  {
   "cell_type": "raw",
   "id": "226eb39d-32a0-4623-8ab4-83997207c3d8",
   "metadata": {},
   "source": [
    "8. Using python find the eigenvalues and corresponding eigenvectors of the matrix A=  [4 2 2]\n",
    "    [2 4 2]\n",
    "    [2 2 4]\n"
   ]
  },
  {
   "cell_type": "code",
   "execution_count": 71,
   "id": "1f752370-7b00-4676-a8cc-c31fa55f6b54",
   "metadata": {},
   "outputs": [
    {
     "data": {
      "text/latex": [
       "$\\displaystyle \\left[\\begin{matrix}4 & 2 & 2\\\\2 & 4 & 2\\\\2 & 2 & 4\\end{matrix}\\right]$"
      ],
      "text/plain": [
       "Matrix([\n",
       "[4, 2, 2],\n",
       "[2, 4, 2],\n",
       "[2, 2, 4]])"
      ]
     },
     "execution_count": 71,
     "metadata": {},
     "output_type": "execute_result"
    }
   ],
   "source": [
    "from sympy import*\n",
    "A=Matrix([[4,2,2],[2,4,2],[2,2,4]])\n",
    "A"
   ]
  },
  {
   "cell_type": "code",
   "execution_count": 75,
   "id": "dd09a895-38a2-438c-9851-2d9814dda31a",
   "metadata": {},
   "outputs": [
    {
     "data": {
      "text/plain": [
       "{8: 1, 2: 2}"
      ]
     },
     "execution_count": 75,
     "metadata": {},
     "output_type": "execute_result"
    }
   ],
   "source": [
    "A.eigenvals()"
   ]
  },
  {
   "cell_type": "code",
   "execution_count": 81,
   "id": "34083427-cd77-4f2a-9f40-82deab2fc81a",
   "metadata": {},
   "outputs": [
    {
     "data": {
      "text/plain": [
       "[(2,\n",
       "  2,\n",
       "  [Matrix([\n",
       "   [-1],\n",
       "   [ 1],\n",
       "   [ 0]]),\n",
       "   Matrix([\n",
       "   [-1],\n",
       "   [ 0],\n",
       "   [ 1]])]),\n",
       " (8,\n",
       "  1,\n",
       "  [Matrix([\n",
       "   [1],\n",
       "   [1],\n",
       "   [1]])])]"
      ]
     },
     "execution_count": 81,
     "metadata": {},
     "output_type": "execute_result"
    }
   ],
   "source": [
    "A.eigenvects()"
   ]
  },
  {
   "cell_type": "raw",
   "id": "160bfc55-e482-4452-8eea-b95a1e0687c0",
   "metadata": {},
   "source": [
    "9. Using python find the eigenvalues and corresponding eigenvectors of the matrix\n",
    "A=  [3 −2]\n",
    "    [6 −4]\n"
   ]
  },
  {
   "cell_type": "code",
   "execution_count": 83,
   "id": "36fb2f26-9297-4aef-b72b-2da5c94a3497",
   "metadata": {},
   "outputs": [
    {
     "data": {
      "text/latex": [
       "$\\displaystyle \\left[\\begin{matrix}3 & -2\\\\6 & -4\\end{matrix}\\right]$"
      ],
      "text/plain": [
       "Matrix([\n",
       "[3, -2],\n",
       "[6, -4]])"
      ]
     },
     "execution_count": 83,
     "metadata": {},
     "output_type": "execute_result"
    }
   ],
   "source": [
    "from sympy import*\n",
    "A=Matrix([[3,-2],[6,-4]])\n",
    "A"
   ]
  },
  {
   "cell_type": "code",
   "execution_count": 85,
   "id": "c1d0d3ee-5855-460a-92fc-801f968767c3",
   "metadata": {},
   "outputs": [
    {
     "data": {
      "text/plain": [
       "{-1: 1, 0: 1}"
      ]
     },
     "execution_count": 85,
     "metadata": {},
     "output_type": "execute_result"
    }
   ],
   "source": [
    "A.eigenvals()"
   ]
  },
  {
   "cell_type": "code",
   "execution_count": 87,
   "id": "87c713fe-aa80-438a-8528-73d6aa89c440",
   "metadata": {},
   "outputs": [
    {
     "data": {
      "text/plain": [
       "[(-1,\n",
       "  1,\n",
       "  [Matrix([\n",
       "   [1/2],\n",
       "   [  1]])]),\n",
       " (0,\n",
       "  1,\n",
       "  [Matrix([\n",
       "   [2/3],\n",
       "   [  1]])])]"
      ]
     },
     "execution_count": 87,
     "metadata": {},
     "output_type": "execute_result"
    }
   ],
   "source": [
    "A.eigenvects()"
   ]
  },
  {
   "cell_type": "code",
   "execution_count": null,
   "id": "c9971992-edbb-4307-9043-28abf493702d",
   "metadata": {},
   "outputs": [],
   "source": []
  }
 ],
 "metadata": {
  "kernelspec": {
   "display_name": "Python 3 (ipykernel)",
   "language": "python",
   "name": "python3"
  },
  "language_info": {
   "codemirror_mode": {
    "name": "ipython",
    "version": 3
   },
   "file_extension": ".py",
   "mimetype": "text/x-python",
   "name": "python",
   "nbconvert_exporter": "python",
   "pygments_lexer": "ipython3",
   "version": "3.12.4"
  }
 },
 "nbformat": 4,
 "nbformat_minor": 5
}
