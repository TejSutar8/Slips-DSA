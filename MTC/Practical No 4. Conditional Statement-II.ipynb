{
 "cells": [
  {
   "cell_type": "raw",
   "id": "3b274c31-9352-40c9-860f-0d6ed0b0b952",
   "metadata": {
    "vscode": {
     "languageId": "raw"
    }
   },
   "source": [
    "Name: Tej Santosh Sutar\n",
    "RollNo:176\n",
    "Class:S.Y B.Sc CS\n",
    "Batch:H\n",
    "Date:17/08/2024\n",
    "Practical No 4. Conditional Statement-II"
   ]
  },
  {
   "cell_type": "raw",
   "id": "f902df90-9467-42a5-9635-07c5cdd34ce9",
   "metadata": {},
   "source": [
    "1.Use Python code to find sum of first thirty natural numbers"
   ]
  },
  {
   "cell_type": "code",
   "execution_count": 31,
   "id": "a05d807c-fc67-4977-9c31-bad7614a8989",
   "metadata": {},
   "outputs": [
    {
     "name": "stdout",
     "output_type": "stream",
     "text": [
      "n\n"
     ]
    },
    {
     "name": "stdout",
     "output_type": "stream",
     "text": [
      " 30\n"
     ]
    },
    {
     "name": "stdout",
     "output_type": "stream",
     "text": [
      "sum= 465\n"
     ]
    }
   ],
   "source": [
    "print(\"n\");\n",
    "n=int(input())\n",
    "sum=0\n",
    "i=1\n",
    "while i<=n:\n",
    "    sum=sum+i\n",
    "    i=i+1\n",
    "print(\"sum=\",sum)"
   ]
  },
  {
   "cell_type": "code",
   "execution_count": 29,
   "id": "6d6a2df0-b2c4-4845-a214-204753c8aa7e",
   "metadata": {},
   "outputs": [
    {
     "name": "stdout",
     "output_type": "stream",
     "text": [
      "sum= 465\n"
     ]
    }
   ],
   "source": [
    "n=30\n",
    "sum=0\n",
    "i=1\n",
    "while i<=n:\n",
    "    sum=sum+i\n",
    "    i=i+1\n",
    "print(\"sum=\",sum)"
   ]
  },
  {
   "cell_type": "raw",
   "id": "26e4f248-436a-4859-99f5-939a648a9362",
   "metadata": {},
   "source": [
    "2.Write python code to print all integers between 1 to n,which are relatively prime to n"
   ]
  },
  {
   "cell_type": "code",
   "execution_count": 19,
   "id": "1517b059-0088-439f-b472-73ce4aa1893d",
   "metadata": {},
   "outputs": [],
   "source": [
    "import math\n",
    "def p(n):\n",
    "    for x in range(1,n):\n",
    "        if math.gcd(n,x)==1:\n",
    "            print(x)"
   ]
  },
  {
   "cell_type": "code",
   "execution_count": 23,
   "id": "a39708fd-8cfb-4456-a561-84bf7dd08adc",
   "metadata": {},
   "outputs": [
    {
     "name": "stdout",
     "output_type": "stream",
     "text": [
      "1\n",
      "2\n",
      "4\n",
      "7\n",
      "8\n",
      "11\n",
      "13\n",
      "14\n"
     ]
    }
   ],
   "source": [
    "p(15)"
   ]
  },
  {
   "cell_type": "raw",
   "id": "efdcfc75-2af6-440d-9045-5be84933e6ff",
   "metadata": {},
   "source": [
    "3.Write Python code to generate 10 terms of Fibonacci Sequence using loop."
   ]
  },
  {
   "cell_type": "code",
   "execution_count": 27,
   "id": "8e177f27-9532-4999-928a-529588b7a2dc",
   "metadata": {},
   "outputs": [
    {
     "name": "stdout",
     "output_type": "stream",
     "text": [
      "0\n",
      "1\n",
      "1\n",
      "2\n",
      "3\n",
      "5\n",
      "8\n",
      "13\n",
      "21\n",
      "34\n"
     ]
    }
   ],
   "source": [
    "a=0\n",
    "b=1\n",
    "for i in range(1,11):\n",
    "    print(a,end='\\n')\n",
    "    a,b=b,a+b"
   ]
  },
  {
   "cell_type": "raw",
   "id": "f82da539-caf2-410e-9beb-c21feba71add",
   "metadata": {},
   "source": [
    "4.\tWrite Python program to find the product of n natural numbers using while loop."
   ]
  },
  {
   "cell_type": "code",
   "execution_count": 35,
   "id": "5e4708e6-c0f6-4b45-8d68-8e7116dbed6f",
   "metadata": {},
   "outputs": [
    {
     "name": "stdout",
     "output_type": "stream",
     "text": [
      "n\n"
     ]
    },
    {
     "name": "stdout",
     "output_type": "stream",
     "text": [
      " 10\n"
     ]
    },
    {
     "name": "stdout",
     "output_type": "stream",
     "text": [
      "product =  3628800\n"
     ]
    }
   ],
   "source": [
    "print(\"n\")\n",
    "n=int(input())\n",
    "product=1\n",
    "i=1\n",
    "while i<=n:\n",
    "    product=product*i\n",
    "    i=i+1\n",
    "\n",
    "print(\"product = \",product)"
   ]
  },
  {
   "cell_type": "raw",
   "id": "c33c2f6d-1133-4a20-85ad-a49c27aa6e67",
   "metadata": {},
   "source": [
    "5.\tUse while command on Python to find odd positive integer between 25 to 50."
   ]
  },
  {
   "cell_type": "code",
   "execution_count": 41,
   "id": "5ba3f201-6709-4b1e-bad9-417d3b6408db",
   "metadata": {},
   "outputs": [
    {
     "name": "stdout",
     "output_type": "stream",
     "text": [
      "25\n",
      "27\n",
      "29\n",
      "31\n",
      "33\n",
      "35\n",
      "37\n",
      "39\n",
      "41\n",
      "43\n",
      "45\n",
      "47\n",
      "49\n"
     ]
    }
   ],
   "source": [
    "i = 25\n",
    "while i <= 50:\n",
    "    if(i%2!=0):\n",
    "        print(i)     \n",
    "    i=i+1"
   ]
  },
  {
   "cell_type": "raw",
   "id": "a957faa0-e0f8-4425-9b13-5cb0d6491ba4",
   "metadata": {},
   "source": [
    "6. Write Python code to find the square of odd numbers from 1 to 20  using while loop."
   ]
  },
  {
   "cell_type": "code",
   "execution_count": 47,
   "id": "89dbb68c-86de-4ac1-aba3-f78a4c9235bc",
   "metadata": {},
   "outputs": [
    {
     "name": "stdout",
     "output_type": "stream",
     "text": [
      "1\n",
      "9\n",
      "25\n",
      "49\n",
      "81\n",
      "121\n",
      "169\n",
      "225\n",
      "289\n",
      "361\n"
     ]
    }
   ],
   "source": [
    "i = 1\n",
    "while i <= 20:\n",
    "    if i % 2 != 0:\n",
    "        print(i ** 2)\n",
    "    i =i + 1\n"
   ]
  },
  {
   "cell_type": "raw",
   "id": "caf1a79e-9984-486c-9e20-cb8d794288ac",
   "metadata": {},
   "source": [
    "7. Write python code to display multiplication tables of numbers 2 to 10."
   ]
  },
  {
   "cell_type": "code",
   "execution_count": 69,
   "id": "a23fab33-a8f6-4586-8444-210669c17e58",
   "metadata": {},
   "outputs": [
    {
     "name": "stdout",
     "output_type": "stream",
     "text": [
      "2 x 1 = 2\n",
      "2 x 2 = 4\n",
      "2 x 3 = 6\n",
      "2 x 4 = 8\n",
      "2 x 5 = 10\n",
      "2 x 6 = 12\n",
      "2 x 7 = 14\n",
      "2 x 8 = 16\n",
      "2 x 9 = 18\n",
      "2 x 10 = 20\n",
      "\n",
      "\n",
      "3 x 1 = 3\n",
      "3 x 2 = 6\n",
      "3 x 3 = 9\n",
      "3 x 4 = 12\n",
      "3 x 5 = 15\n",
      "3 x 6 = 18\n",
      "3 x 7 = 21\n",
      "3 x 8 = 24\n",
      "3 x 9 = 27\n",
      "3 x 10 = 30\n",
      "\n",
      "\n",
      "4 x 1 = 4\n",
      "4 x 2 = 8\n",
      "4 x 3 = 12\n",
      "4 x 4 = 16\n",
      "4 x 5 = 20\n",
      "4 x 6 = 24\n",
      "4 x 7 = 28\n",
      "4 x 8 = 32\n",
      "4 x 9 = 36\n",
      "4 x 10 = 40\n",
      "\n",
      "\n",
      "5 x 1 = 5\n",
      "5 x 2 = 10\n",
      "5 x 3 = 15\n",
      "5 x 4 = 20\n",
      "5 x 5 = 25\n",
      "5 x 6 = 30\n",
      "5 x 7 = 35\n",
      "5 x 8 = 40\n",
      "5 x 9 = 45\n",
      "5 x 10 = 50\n",
      "\n",
      "\n",
      "6 x 1 = 6\n",
      "6 x 2 = 12\n",
      "6 x 3 = 18\n",
      "6 x 4 = 24\n",
      "6 x 5 = 30\n",
      "6 x 6 = 36\n",
      "6 x 7 = 42\n",
      "6 x 8 = 48\n",
      "6 x 9 = 54\n",
      "6 x 10 = 60\n",
      "\n",
      "\n",
      "7 x 1 = 7\n",
      "7 x 2 = 14\n",
      "7 x 3 = 21\n",
      "7 x 4 = 28\n",
      "7 x 5 = 35\n",
      "7 x 6 = 42\n",
      "7 x 7 = 49\n",
      "7 x 8 = 56\n",
      "7 x 9 = 63\n",
      "7 x 10 = 70\n",
      "\n",
      "\n",
      "8 x 1 = 8\n",
      "8 x 2 = 16\n",
      "8 x 3 = 24\n",
      "8 x 4 = 32\n",
      "8 x 5 = 40\n",
      "8 x 6 = 48\n",
      "8 x 7 = 56\n",
      "8 x 8 = 64\n",
      "8 x 9 = 72\n",
      "8 x 10 = 80\n",
      "\n",
      "\n",
      "9 x 1 = 9\n",
      "9 x 2 = 18\n",
      "9 x 3 = 27\n",
      "9 x 4 = 36\n",
      "9 x 5 = 45\n",
      "9 x 6 = 54\n",
      "9 x 7 = 63\n",
      "9 x 8 = 72\n",
      "9 x 9 = 81\n",
      "9 x 10 = 90\n",
      "\n",
      "\n",
      "10 x 1 = 10\n",
      "10 x 2 = 20\n",
      "10 x 3 = 30\n",
      "10 x 4 = 40\n",
      "10 x 5 = 50\n",
      "10 x 6 = 60\n",
      "10 x 7 = 70\n",
      "10 x 8 = 80\n",
      "10 x 9 = 90\n",
      "10 x 10 = 100\n",
      "\n",
      "\n"
     ]
    }
   ],
   "source": [
    "for i in range(2,11):\n",
    "    for j in range(1,11):\n",
    "        print(i,\"x\",j,\"=\",i*j)\n",
    "    print(\"\\n\")"
   ]
  },
  {
   "cell_type": "raw",
   "id": "9ff24a9c-e0f6-4a36-97dd-edf56e8e14b2",
   "metadata": {},
   "source": [
    "Single Multi Number"
   ]
  },
  {
   "cell_type": "code",
   "execution_count": 75,
   "id": "3d22373e-ebee-43f7-ba7c-35dec1814d22",
   "metadata": {},
   "outputs": [],
   "source": [
    "def multi(n):\n",
    "    i=1\n",
    "    while i<=10:\n",
    "        print(i*n)\n",
    "        i=i+1"
   ]
  },
  {
   "cell_type": "code",
   "execution_count": 81,
   "id": "3a20ae79-e808-4116-b639-ff19a29e7664",
   "metadata": {},
   "outputs": [
    {
     "name": "stdout",
     "output_type": "stream",
     "text": [
      "6\n",
      "12\n",
      "18\n",
      "24\n",
      "30\n",
      "36\n",
      "42\n",
      "48\n",
      "54\n",
      "60\n"
     ]
    }
   ],
   "source": [
    "multi(6)"
   ]
  },
  {
   "cell_type": "raw",
   "id": "bcba6bca-6ea9-43f1-8eb5-4080ee9d2937",
   "metadata": {},
   "source": [
    "8. Write Python code to generate modulus value of -10 ,10, -1,1,0."
   ]
  },
  {
   "cell_type": "code",
   "execution_count": 77,
   "id": "4c563da2-7c98-408e-97c4-3bfae23af4f6",
   "metadata": {},
   "outputs": [],
   "source": [
    "def f(x):\n",
    "    if(x>=0):\n",
    "        print(x)\n",
    "    else:\n",
    "        print(-x)"
   ]
  },
  {
   "cell_type": "code",
   "execution_count": 79,
   "id": "6a7d1d14-5f4d-4a72-9196-786403bd84bc",
   "metadata": {},
   "outputs": [
    {
     "name": "stdout",
     "output_type": "stream",
     "text": [
      "10\n"
     ]
    }
   ],
   "source": [
    "f(10)"
   ]
  },
  {
   "cell_type": "raw",
   "id": "66114c07-a41f-43d3-a56f-6cd03aaf22a9",
   "metadata": {},
   "source": [
    "9. Write Python code to find average of number 50 to 100. "
   ]
  },
  {
   "cell_type": "code",
   "execution_count": 85,
   "id": "3819df6b-1f13-41a9-913c-5628d7dda1e3",
   "metadata": {},
   "outputs": [
    {
     "name": "stdout",
     "output_type": "stream",
     "text": [
      "Average = 75.0\n"
     ]
    }
   ],
   "source": [
    "i=50\n",
    "sum=0\n",
    "count=0\n",
    "while i<=100:\n",
    "    sum=sum+i\n",
    "    i=i+1\n",
    "    count=count+1\n",
    "average=(sum/count)\n",
    "print(\"Average =\",average)"
   ]
  },
  {
   "cell_type": "raw",
   "id": "da34f105-6cb2-4493-9014-b8b19f0e1c9a",
   "metadata": {},
   "source": [
    "10. Using Python code, find percentage of marks 70,80, 55, 78, 65 in five subject out \n",
    "    of  100 each."
   ]
  },
  {
   "cell_type": "code",
   "execution_count": 91,
   "id": "49424d52-eeae-43df-aa2e-339d47c28f6e",
   "metadata": {},
   "outputs": [
    {
     "name": "stdout",
     "output_type": "stream",
     "text": [
      "The percentage is  69.6\n"
     ]
    }
   ],
   "source": [
    "num=[70,80,55,78,65]\n",
    "sum=0\n",
    "for val in num:\n",
    "    sum=sum +val\n",
    "    p=(sum/500)*100\n",
    "print(\"The percentage is \",p)"
   ]
  },
  {
   "cell_type": "raw",
   "id": "b2b8a7c7-b8b4-42e5-a69c-a5eba61edea6",
   "metadata": {},
   "source": [
    "11. Use Python code to remove all digits after decimal of the given Number 125312.3142."
   ]
  },
  {
   "cell_type": "code",
   "execution_count": 93,
   "id": "4c51a3e6-d3df-452c-880b-122c0e9c5a6e",
   "metadata": {},
   "outputs": [
    {
     "data": {
      "text/plain": [
       "125312"
      ]
     },
     "execution_count": 93,
     "metadata": {},
     "output_type": "execute_result"
    }
   ],
   "source": [
    "number=125312.3142\n",
    "int(number)"
   ]
  },
  {
   "cell_type": "code",
   "execution_count": null,
   "id": "ee2c7047-7db0-4043-b69a-73596b266bf1",
   "metadata": {},
   "outputs": [],
   "source": []
  }
 ],
 "metadata": {
  "kernelspec": {
   "display_name": "Python 3 (ipykernel)",
   "language": "python",
   "name": "python3"
  },
  "language_info": {
   "codemirror_mode": {
    "name": "ipython",
    "version": 3
   },
   "file_extension": ".py",
   "mimetype": "text/x-python",
   "name": "python",
   "nbconvert_exporter": "python",
   "pygments_lexer": "ipython3",
   "version": "3.12.4"
  }
 },
 "nbformat": 4,
 "nbformat_minor": 5
}
