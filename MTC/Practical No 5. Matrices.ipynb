{
 "cells": [
  {
   "cell_type": "raw",
   "id": "a56c520a-0aca-4332-9c33-86cbf01cc523",
   "metadata": {},
   "source": [
    "Name: Tej Santosh Sutar\n",
    "RollNo:176\n",
    "Class:S.Y B.Sc CS\n",
    "Batch:H Date:20/07/2024 Practical No 5. Matrices \n",
    "\n"
   ]
  },
  {
   "cell_type": "raw",
   "id": "b57149d2-03f6-4174-b486-0d9a6374430d",
   "metadata": {},
   "source": [
    "1. Using Python code construct the following matrices.\n",
    "a. An identity matrix of order 10 × 10."
   ]
  },
  {
   "cell_type": "code",
   "execution_count": 3,
   "id": "109ff169-1033-49f3-adde-af894e8e9dcb",
   "metadata": {},
   "outputs": [
    {
     "data": {
      "text/latex": [
       "$\\displaystyle \\left[\\begin{matrix}1 & 0 & 0 & 0 & 0 & 0 & 0 & 0 & 0 & 0\\\\0 & 1 & 0 & 0 & 0 & 0 & 0 & 0 & 0 & 0\\\\0 & 0 & 1 & 0 & 0 & 0 & 0 & 0 & 0 & 0\\\\0 & 0 & 0 & 1 & 0 & 0 & 0 & 0 & 0 & 0\\\\0 & 0 & 0 & 0 & 1 & 0 & 0 & 0 & 0 & 0\\\\0 & 0 & 0 & 0 & 0 & 1 & 0 & 0 & 0 & 0\\\\0 & 0 & 0 & 0 & 0 & 0 & 1 & 0 & 0 & 0\\\\0 & 0 & 0 & 0 & 0 & 0 & 0 & 1 & 0 & 0\\\\0 & 0 & 0 & 0 & 0 & 0 & 0 & 0 & 1 & 0\\\\0 & 0 & 0 & 0 & 0 & 0 & 0 & 0 & 0 & 1\\end{matrix}\\right]$"
      ],
      "text/plain": [
       "Matrix([\n",
       "[1, 0, 0, 0, 0, 0, 0, 0, 0, 0],\n",
       "[0, 1, 0, 0, 0, 0, 0, 0, 0, 0],\n",
       "[0, 0, 1, 0, 0, 0, 0, 0, 0, 0],\n",
       "[0, 0, 0, 1, 0, 0, 0, 0, 0, 0],\n",
       "[0, 0, 0, 0, 1, 0, 0, 0, 0, 0],\n",
       "[0, 0, 0, 0, 0, 1, 0, 0, 0, 0],\n",
       "[0, 0, 0, 0, 0, 0, 1, 0, 0, 0],\n",
       "[0, 0, 0, 0, 0, 0, 0, 1, 0, 0],\n",
       "[0, 0, 0, 0, 0, 0, 0, 0, 1, 0],\n",
       "[0, 0, 0, 0, 0, 0, 0, 0, 0, 1]])"
      ]
     },
     "execution_count": 3,
     "metadata": {},
     "output_type": "execute_result"
    }
   ],
   "source": [
    "from sympy import*\n",
    "eye(10,10)"
   ]
  },
  {
   "cell_type": "raw",
   "id": "a2270279-80f6-4438-911d-c2e35b758f66",
   "metadata": {},
   "source": [
    "b. Zero matrix of order 7 × 3."
   ]
  },
  {
   "cell_type": "code",
   "execution_count": 5,
   "id": "6728bbbb-8364-402f-a8a0-55dd78252f0f",
   "metadata": {},
   "outputs": [
    {
     "data": {
      "text/latex": [
       "$\\displaystyle \\left[\\begin{matrix}0 & 0 & 0\\\\0 & 0 & 0\\\\0 & 0 & 0\\\\0 & 0 & 0\\\\0 & 0 & 0\\\\0 & 0 & 0\\\\0 & 0 & 0\\end{matrix}\\right]$"
      ],
      "text/plain": [
       "Matrix([\n",
       "[0, 0, 0],\n",
       "[0, 0, 0],\n",
       "[0, 0, 0],\n",
       "[0, 0, 0],\n",
       "[0, 0, 0],\n",
       "[0, 0, 0],\n",
       "[0, 0, 0]])"
      ]
     },
     "execution_count": 5,
     "metadata": {},
     "output_type": "execute_result"
    }
   ],
   "source": [
    "zeros(7,3)"
   ]
  },
  {
   "cell_type": "raw",
   "id": "1547c635-987e-44f5-9c61-ab19699def36",
   "metadata": {},
   "source": [
    "c. Ones matrix of order 5 × 4."
   ]
  },
  {
   "cell_type": "code",
   "execution_count": 7,
   "id": "f7fef1b0-7a3f-4131-ada4-af9263e9866f",
   "metadata": {},
   "outputs": [
    {
     "data": {
      "text/latex": [
       "$\\displaystyle \\left[\\begin{matrix}1 & 1 & 1 & 1\\\\1 & 1 & 1 & 1\\\\1 & 1 & 1 & 1\\\\1 & 1 & 1 & 1\\\\1 & 1 & 1 & 1\\end{matrix}\\right]$"
      ],
      "text/plain": [
       "Matrix([\n",
       "[1, 1, 1, 1],\n",
       "[1, 1, 1, 1],\n",
       "[1, 1, 1, 1],\n",
       "[1, 1, 1, 1],\n",
       "[1, 1, 1, 1]])"
      ]
     },
     "execution_count": 7,
     "metadata": {},
     "output_type": "execute_result"
    }
   ],
   "source": [
    "ones(5,4)"
   ]
  },
  {
   "cell_type": "raw",
   "id": "9206e108-3d3c-4e53-8dda-2a023e6314e1",
   "metadata": {},
   "source": [
    "2. Write python code to display the matrix whose all entries are 10 and order is (4,6)"
   ]
  },
  {
   "cell_type": "code",
   "execution_count": 11,
   "id": "4223ced4-ccb6-4802-abba-87085cc9049d",
   "metadata": {},
   "outputs": [
    {
     "data": {
      "text/latex": [
       "$\\displaystyle \\left[\\begin{matrix}18 & 18 & 18 & 18 & 18 & 18\\\\18 & 18 & 18 & 18 & 18 & 18\\\\18 & 18 & 18 & 18 & 18 & 18\\\\18 & 18 & 18 & 18 & 18 & 18\\end{matrix}\\right]$"
      ],
      "text/plain": [
       "Matrix([\n",
       "[18, 18, 18, 18, 18, 18],\n",
       "[18, 18, 18, 18, 18, 18],\n",
       "[18, 18, 18, 18, 18, 18],\n",
       "[18, 18, 18, 18, 18, 18]])"
      ]
     },
     "execution_count": 11,
     "metadata": {},
     "output_type": "execute_result"
    }
   ],
   "source": [
    "from sympy import*\n",
    "18*ones(4,6)"
   ]
  },
  {
   "cell_type": "raw",
   "id": "ccb4e343-2a44-4cff-af2e-c7b076d1b774",
   "metadata": {},
   "source": [
    "3. Using sympy module of python find the following for the matrices"
   ]
  },
  {
   "cell_type": "code",
   "execution_count": 13,
   "id": "a96dc3cc-d96d-48a0-8262-210c8b6dfc3d",
   "metadata": {},
   "outputs": [],
   "source": [
    "from sympy import*\n",
    "A=Matrix([[-1,1,0],[8,5,2],[2,-6,2]])\n",
    "B=Matrix([[9,0,3],[1,4,1],[1,0,-1]])"
   ]
  },
  {
   "cell_type": "code",
   "execution_count": 25,
   "id": "7ba004fa-ac21-42c3-b52c-a0ce20dd6008",
   "metadata": {},
   "outputs": [
    {
     "data": {
      "text/latex": [
       "$\\displaystyle \\left[\\begin{matrix}-1 & 1 & 0\\\\8 & 5 & 2\\\\2 & -6 & 2\\end{matrix}\\right]$"
      ],
      "text/plain": [
       "Matrix([\n",
       "[-1,  1, 0],\n",
       "[ 8,  5, 2],\n",
       "[ 2, -6, 2]])"
      ]
     },
     "execution_count": 25,
     "metadata": {},
     "output_type": "execute_result"
    }
   ],
   "source": [
    "A"
   ]
  },
  {
   "cell_type": "code",
   "execution_count": 27,
   "id": "f99b656b-4cdb-4072-a513-3624e9bf22b4",
   "metadata": {},
   "outputs": [
    {
     "data": {
      "text/latex": [
       "$\\displaystyle \\left[\\begin{matrix}9 & 0 & 3\\\\1 & 4 & 1\\\\1 & 0 & -1\\end{matrix}\\right]$"
      ],
      "text/plain": [
       "Matrix([\n",
       "[9, 0,  3],\n",
       "[1, 4,  1],\n",
       "[1, 0, -1]])"
      ]
     },
     "execution_count": 27,
     "metadata": {},
     "output_type": "execute_result"
    }
   ],
   "source": [
    "B"
   ]
  },
  {
   "cell_type": "code",
   "execution_count": 15,
   "id": "f686e732-f1cb-4e9a-9187-e69fd63c8fc4",
   "metadata": {},
   "outputs": [
    {
     "data": {
      "text/latex": [
       "$\\displaystyle \\left[\\begin{matrix}7 & 2 & 3\\\\17 & 14 & 5\\\\5 & -12 & 3\\end{matrix}\\right]$"
      ],
      "text/plain": [
       "Matrix([\n",
       "[ 7,   2, 3],\n",
       "[17,  14, 5],\n",
       "[ 5, -12, 3]])"
      ]
     },
     "execution_count": 15,
     "metadata": {},
     "output_type": "execute_result"
    }
   ],
   "source": [
    "2*A+B"
   ]
  },
  {
   "cell_type": "code",
   "execution_count": 19,
   "id": "fd4cbfbb-474c-4502-bd18-86e036d97fb2",
   "metadata": {},
   "outputs": [
    {
     "data": {
      "text/latex": [
       "$\\displaystyle \\left[\\begin{matrix}-48 & 3 & -15\\\\19 & -5 & 1\\\\1 & -18 & 11\\end{matrix}\\right]$"
      ],
      "text/plain": [
       "Matrix([\n",
       "[-48,   3, -15],\n",
       "[ 19,  -5,   1],\n",
       "[  1, -18,  11]])"
      ]
     },
     "execution_count": 19,
     "metadata": {},
     "output_type": "execute_result"
    }
   ],
   "source": [
    "3*A-5*B"
   ]
  },
  {
   "cell_type": "code",
   "execution_count": 23,
   "id": "58220c5a-8b9a-4b77-9846-d6f2c8a6c4ff",
   "metadata": {},
   "outputs": [
    {
     "data": {
      "text/latex": [
       "$\\displaystyle \\left[\\begin{matrix}- \\frac{11}{17} & \\frac{1}{17} & - \\frac{1}{17}\\\\\\frac{6}{17} & \\frac{1}{17} & - \\frac{1}{17}\\\\\\frac{29}{17} & \\frac{2}{17} & \\frac{13}{34}\\end{matrix}\\right]$"
      ],
      "text/plain": [
       "Matrix([\n",
       "[-11/17, 1/17, -1/17],\n",
       "[  6/17, 1/17, -1/17],\n",
       "[ 29/17, 2/17, 13/34]])"
      ]
     },
     "execution_count": 23,
     "metadata": {},
     "output_type": "execute_result"
    }
   ],
   "source": [
    "A.inv()"
   ]
  },
  {
   "cell_type": "code",
   "execution_count": 29,
   "id": "29462683-9bdc-43e2-b8c8-192570d82b0e",
   "metadata": {},
   "outputs": [
    {
     "data": {
      "text/latex": [
       "$\\displaystyle \\left[\\begin{matrix}780 & 0 & 228\\\\148 & 64 & 52\\\\76 & 0 & 20\\end{matrix}\\right]$"
      ],
      "text/plain": [
       "Matrix([\n",
       "[780,  0, 228],\n",
       "[148, 64,  52],\n",
       "[ 76,  0,  20]])"
      ]
     },
     "execution_count": 29,
     "metadata": {},
     "output_type": "execute_result"
    }
   ],
   "source": [
    "B**3"
   ]
  },
  {
   "cell_type": "code",
   "execution_count": 31,
   "id": "c3e7d727-79b3-4ccf-8cad-02daca44db92",
   "metadata": {},
   "outputs": [
    {
     "data": {
      "text/latex": [
       "$\\displaystyle \\left[\\begin{matrix}-1 & 8 & 2\\\\1 & 5 & -6\\\\0 & 2 & 2\\end{matrix}\\right]$"
      ],
      "text/plain": [
       "Matrix([\n",
       "[-1, 8,  2],\n",
       "[ 1, 5, -6],\n",
       "[ 0, 2,  2]])"
      ]
     },
     "execution_count": 31,
     "metadata": {},
     "output_type": "execute_result"
    }
   ],
   "source": [
    "A.T"
   ]
  },
  {
   "cell_type": "code",
   "execution_count": 33,
   "id": "a9628761-2286-4876-8a4f-8a4570e360c1",
   "metadata": {},
   "outputs": [
    {
     "data": {
      "text/latex": [
       "$\\displaystyle \\left[\\begin{matrix}9 & 1 & 1\\\\0 & 4 & 0\\\\3 & 1 & -1\\end{matrix}\\right]$"
      ],
      "text/plain": [
       "Matrix([\n",
       "[9, 1,  1],\n",
       "[0, 4,  0],\n",
       "[3, 1, -1]])"
      ]
     },
     "execution_count": 33,
     "metadata": {},
     "output_type": "execute_result"
    }
   ],
   "source": [
    "B.T"
   ]
  },
  {
   "cell_type": "code",
   "execution_count": 35,
   "id": "e8d9183d-6736-4a2a-8771-b2700ba1d0e4",
   "metadata": {},
   "outputs": [
    {
     "data": {
      "text/latex": [
       "$\\displaystyle \\left[\\begin{matrix}8 & 9 & 3\\\\1 & 9 & -6\\\\3 & 3 & 1\\end{matrix}\\right]$"
      ],
      "text/plain": [
       "Matrix([\n",
       "[8, 9,  3],\n",
       "[1, 9, -6],\n",
       "[3, 3,  1]])"
      ]
     },
     "execution_count": 35,
     "metadata": {},
     "output_type": "execute_result"
    }
   ],
   "source": [
    "A.T+B.T"
   ]
  },
  {
   "cell_type": "raw",
   "id": "8a5ef4da-e579-4d8c-b2a5-ade2b4060551",
   "metadata": {},
   "source": [
    "4. Using Python code construct any two matrices A and B "
   ]
  },
  {
   "cell_type": "code",
   "execution_count": 37,
   "id": "00558f7c-80a2-4051-b972-c13b411cc8a5",
   "metadata": {},
   "outputs": [],
   "source": [
    "from sympy import*\n",
    "A=Matrix([[9,0,3],[1,4,1],[1,0,-1]])\n",
    "B=Matrix([[-1,1,0],[8,5,2],[2,-6,2]])"
   ]
  },
  {
   "cell_type": "code",
   "execution_count": 41,
   "id": "a6426d9f-1cf6-414e-9fbd-f562363e3b84",
   "metadata": {},
   "outputs": [
    {
     "data": {
      "text/latex": [
       "$\\displaystyle \\left[\\begin{matrix}9 & 0 & 3\\\\1 & 4 & 1\\\\1 & 0 & -1\\end{matrix}\\right]$"
      ],
      "text/plain": [
       "Matrix([\n",
       "[9, 0,  3],\n",
       "[1, 4,  1],\n",
       "[1, 0, -1]])"
      ]
     },
     "execution_count": 41,
     "metadata": {},
     "output_type": "execute_result"
    }
   ],
   "source": [
    "A"
   ]
  },
  {
   "cell_type": "code",
   "execution_count": 43,
   "id": "0f79491f-b8d1-4dc1-b830-3f5b7b2f641d",
   "metadata": {},
   "outputs": [
    {
     "data": {
      "text/latex": [
       "$\\displaystyle \\left[\\begin{matrix}-1 & 1 & 0\\\\8 & 5 & 2\\\\2 & -6 & 2\\end{matrix}\\right]$"
      ],
      "text/plain": [
       "Matrix([\n",
       "[-1,  1, 0],\n",
       "[ 8,  5, 2],\n",
       "[ 2, -6, 2]])"
      ]
     },
     "execution_count": 43,
     "metadata": {},
     "output_type": "execute_result"
    }
   ],
   "source": [
    "B"
   ]
  },
  {
   "cell_type": "raw",
   "id": "71d431d9-f8ef-458c-825a-009ce98a830b",
   "metadata": {},
   "source": [
    "1. Show that A+B=B+A."
   ]
  },
  {
   "cell_type": "code",
   "execution_count": 47,
   "id": "b2689d74-2e04-4ee1-9a49-3c77377adddc",
   "metadata": {},
   "outputs": [
    {
     "data": {
      "text/latex": [
       "$\\displaystyle \\left[\\begin{matrix}8 & 1 & 3\\\\9 & 9 & 3\\\\3 & -6 & 1\\end{matrix}\\right]$"
      ],
      "text/plain": [
       "Matrix([\n",
       "[8,  1, 3],\n",
       "[9,  9, 3],\n",
       "[3, -6, 1]])"
      ]
     },
     "execution_count": 47,
     "metadata": {},
     "output_type": "execute_result"
    }
   ],
   "source": [
    "A+B"
   ]
  },
  {
   "cell_type": "code",
   "execution_count": 49,
   "id": "af578cce-c157-4258-8652-3ad13a7578f4",
   "metadata": {},
   "outputs": [
    {
     "data": {
      "text/latex": [
       "$\\displaystyle \\left[\\begin{matrix}8 & 1 & 3\\\\9 & 9 & 3\\\\3 & -6 & 1\\end{matrix}\\right]$"
      ],
      "text/plain": [
       "Matrix([\n",
       "[8,  1, 3],\n",
       "[9,  9, 3],\n",
       "[3, -6, 1]])"
      ]
     },
     "execution_count": 49,
     "metadata": {},
     "output_type": "execute_result"
    }
   ],
   "source": [
    "B+A"
   ]
  },
  {
   "cell_type": "code",
   "execution_count": 53,
   "id": "51bc8b93-e6f9-42bd-8518-899636b9daae",
   "metadata": {},
   "outputs": [
    {
     "data": {
      "text/plain": [
       "True"
      ]
     },
     "execution_count": 53,
     "metadata": {},
     "output_type": "execute_result"
    }
   ],
   "source": [
    "A+B==B+A"
   ]
  },
  {
   "cell_type": "raw",
   "id": "0e15ca69-e26a-4d32-b511-63c0ae474e63",
   "metadata": {},
   "source": [
    " 2. Find A-B"
   ]
  },
  {
   "cell_type": "code",
   "execution_count": 51,
   "id": "2b213e56-037d-44f5-8ffd-6da2e60cf4d1",
   "metadata": {},
   "outputs": [
    {
     "data": {
      "text/latex": [
       "$\\displaystyle \\left[\\begin{matrix}10 & -1 & 3\\\\-7 & -1 & -1\\\\-1 & 6 & -3\\end{matrix}\\right]$"
      ],
      "text/plain": [
       "Matrix([\n",
       "[10, -1,  3],\n",
       "[-7, -1, -1],\n",
       "[-1,  6, -3]])"
      ]
     },
     "execution_count": 51,
     "metadata": {},
     "output_type": "execute_result"
    }
   ],
   "source": [
    "A-B"
   ]
  },
  {
   "cell_type": "raw",
   "id": "1c106ea6-ef56-49ce-973b-f3462fd42b11",
   "metadata": {},
   "source": [
    "5. Write Python code to find A+B and B∗A for the given Matrices"
   ]
  },
  {
   "cell_type": "code",
   "execution_count": 57,
   "id": "d05136ca-6257-4fc3-aef0-416bf6e6203e",
   "metadata": {},
   "outputs": [],
   "source": [
    "from sympy import*\n",
    "A=Matrix([[4,2,4],[4,-1,1],[2,4,2]])\n",
    "B=Matrix([[5,2,3],[3,-7,5],[3,1,-1]])"
   ]
  },
  {
   "cell_type": "code",
   "execution_count": 59,
   "id": "e92efd53-1ddb-4d53-ab3b-5a581e539faf",
   "metadata": {},
   "outputs": [
    {
     "data": {
      "text/latex": [
       "$\\displaystyle \\left[\\begin{matrix}9 & 4 & 7\\\\7 & -8 & 6\\\\5 & 5 & 1\\end{matrix}\\right]$"
      ],
      "text/plain": [
       "Matrix([\n",
       "[9,  4, 7],\n",
       "[7, -8, 6],\n",
       "[5,  5, 1]])"
      ]
     },
     "execution_count": 59,
     "metadata": {},
     "output_type": "execute_result"
    }
   ],
   "source": [
    "A+B"
   ]
  },
  {
   "cell_type": "code",
   "execution_count": 61,
   "id": "e6e3e3cc-eef1-4a1a-b768-da908239a3e4",
   "metadata": {},
   "outputs": [
    {
     "data": {
      "text/latex": [
       "$\\displaystyle \\left[\\begin{matrix}34 & 20 & 28\\\\-6 & 33 & 15\\\\14 & 1 & 11\\end{matrix}\\right]$"
      ],
      "text/plain": [
       "Matrix([\n",
       "[34, 20, 28],\n",
       "[-6, 33, 15],\n",
       "[14,  1, 11]])"
      ]
     },
     "execution_count": 61,
     "metadata": {},
     "output_type": "execute_result"
    }
   ],
   "source": [
    "B*A"
   ]
  },
  {
   "cell_type": "raw",
   "id": "2d7f6637-625b-4aa4-bb3a-e610cbfe7145",
   "metadata": {},
   "source": [
    "6. Using Python code logically verify associativity of matrices with respective to matrix addition\n",
    "(use proper matrices)."
   ]
  },
  {
   "cell_type": "code",
   "execution_count": 63,
   "id": "737845a1-4733-4ac9-83de-48ac48f86c31",
   "metadata": {},
   "outputs": [],
   "source": [
    "from sympy import*\n",
    "A=Matrix([[9,0,3],[1,4,1],[1,0,-1]])\n",
    "B=Matrix([[4,2,4],[4,-1,1],[2,4,2]])\n",
    "C=Matrix([[5,2,3],[3,-7,5],[3,1,-1]])"
   ]
  },
  {
   "cell_type": "code",
   "execution_count": 65,
   "id": "576b9793-599e-47f3-907c-9996a1c9d38b",
   "metadata": {},
   "outputs": [
    {
     "data": {
      "text/latex": [
       "$\\displaystyle \\left[\\begin{matrix}9 & 0 & 3\\\\1 & 4 & 1\\\\1 & 0 & -1\\end{matrix}\\right]$"
      ],
      "text/plain": [
       "Matrix([\n",
       "[9, 0,  3],\n",
       "[1, 4,  1],\n",
       "[1, 0, -1]])"
      ]
     },
     "execution_count": 65,
     "metadata": {},
     "output_type": "execute_result"
    }
   ],
   "source": [
    "A"
   ]
  },
  {
   "cell_type": "code",
   "execution_count": 67,
   "id": "052fdf7e-9d8a-4167-b9ac-c7a589874fab",
   "metadata": {},
   "outputs": [
    {
     "data": {
      "text/latex": [
       "$\\displaystyle \\left[\\begin{matrix}4 & 2 & 4\\\\4 & -1 & 1\\\\2 & 4 & 2\\end{matrix}\\right]$"
      ],
      "text/plain": [
       "Matrix([\n",
       "[4,  2, 4],\n",
       "[4, -1, 1],\n",
       "[2,  4, 2]])"
      ]
     },
     "execution_count": 67,
     "metadata": {},
     "output_type": "execute_result"
    }
   ],
   "source": [
    "B"
   ]
  },
  {
   "cell_type": "code",
   "execution_count": 69,
   "id": "f9cfcccc-bd71-4dcc-af35-547eb262da14",
   "metadata": {},
   "outputs": [
    {
     "data": {
      "text/latex": [
       "$\\displaystyle \\left[\\begin{matrix}5 & 2 & 3\\\\3 & -7 & 5\\\\3 & 1 & -1\\end{matrix}\\right]$"
      ],
      "text/plain": [
       "Matrix([\n",
       "[5,  2,  3],\n",
       "[3, -7,  5],\n",
       "[3,  1, -1]])"
      ]
     },
     "execution_count": 69,
     "metadata": {},
     "output_type": "execute_result"
    }
   ],
   "source": [
    "C"
   ]
  },
  {
   "cell_type": "code",
   "execution_count": 71,
   "id": "cf88e161-c9b2-4aa0-907a-16b661b781d8",
   "metadata": {},
   "outputs": [
    {
     "data": {
      "text/latex": [
       "$\\displaystyle \\left[\\begin{matrix}18 & 4 & 10\\\\8 & -4 & 7\\\\6 & 5 & 0\\end{matrix}\\right]$"
      ],
      "text/plain": [
       "Matrix([\n",
       "[18,  4, 10],\n",
       "[ 8, -4,  7],\n",
       "[ 6,  5,  0]])"
      ]
     },
     "execution_count": 71,
     "metadata": {},
     "output_type": "execute_result"
    }
   ],
   "source": [
    "A+(B+C)"
   ]
  },
  {
   "cell_type": "code",
   "execution_count": 73,
   "id": "472ed7ca-68aa-438c-9fbf-4ab4a52706bf",
   "metadata": {},
   "outputs": [
    {
     "data": {
      "text/latex": [
       "$\\displaystyle \\left[\\begin{matrix}18 & 4 & 10\\\\8 & -4 & 7\\\\6 & 5 & 0\\end{matrix}\\right]$"
      ],
      "text/plain": [
       "Matrix([\n",
       "[18,  4, 10],\n",
       "[ 8, -4,  7],\n",
       "[ 6,  5,  0]])"
      ]
     },
     "execution_count": 73,
     "metadata": {},
     "output_type": "execute_result"
    }
   ],
   "source": [
    "(A+B)+C"
   ]
  },
  {
   "cell_type": "code",
   "execution_count": 75,
   "id": "cf7abd45-5ffb-48ed-aa27-d671a3b85abb",
   "metadata": {},
   "outputs": [
    {
     "data": {
      "text/plain": [
       "True"
      ]
     },
     "execution_count": 75,
     "metadata": {},
     "output_type": "execute_result"
    }
   ],
   "source": [
    "A+(B+C)==(A+B)+C"
   ]
  },
  {
   "cell_type": "raw",
   "id": "76af338d-0391-41d6-ad13-6a6558637f21",
   "metadata": {},
   "source": [
    "7. For matrix A= [1 0 5 4 ]\n",
    "                 [2 1 6 -1]\n",
    "                 [3 4 0 2 ]\n",
    "apply the following operations by using python"
   ]
  },
  {
   "cell_type": "code",
   "execution_count": 77,
   "id": "0601f2b8-7811-48be-ae91-db7796adf3ed",
   "metadata": {},
   "outputs": [],
   "source": [
    "from sympy import*\n",
    "A=Matrix([[1,0,5,4],[2,1,6,-1],[3,4,0,2]])"
   ]
  },
  {
   "cell_type": "code",
   "execution_count": 79,
   "id": "ecdb7055-e7cd-4605-b260-00f402665373",
   "metadata": {},
   "outputs": [
    {
     "data": {
      "text/latex": [
       "$\\displaystyle \\left[\\begin{matrix}1 & 0 & 5 & 4\\\\2 & 1 & 6 & -1\\\\3 & 4 & 0 & 2\\end{matrix}\\right]$"
      ],
      "text/plain": [
       "Matrix([\n",
       "[1, 0, 5,  4],\n",
       "[2, 1, 6, -1],\n",
       "[3, 4, 0,  2]])"
      ]
     },
     "execution_count": 79,
     "metadata": {},
     "output_type": "execute_result"
    }
   ],
   "source": [
    "A"
   ]
  },
  {
   "cell_type": "code",
   "execution_count": 81,
   "id": "f264e0ee-6bde-4b48-83a5-3b68c89bfba2",
   "metadata": {},
   "outputs": [],
   "source": [
    "A.row_del(1)"
   ]
  },
  {
   "cell_type": "code",
   "execution_count": 83,
   "id": "cb6aaa78-9346-4d04-98e8-e9b828b9edc3",
   "metadata": {},
   "outputs": [
    {
     "data": {
      "text/latex": [
       "$\\displaystyle \\left[\\begin{matrix}1 & 0 & 5 & 4\\\\3 & 4 & 0 & 2\\end{matrix}\\right]$"
      ],
      "text/plain": [
       "Matrix([\n",
       "[1, 0, 5, 4],\n",
       "[3, 4, 0, 2]])"
      ]
     },
     "execution_count": 83,
     "metadata": {},
     "output_type": "execute_result"
    }
   ],
   "source": [
    "A"
   ]
  },
  {
   "cell_type": "code",
   "execution_count": 85,
   "id": "b9eda09f-2c9e-4515-9056-7cffbf0ae216",
   "metadata": {},
   "outputs": [],
   "source": [
    "A.col_del(0)"
   ]
  },
  {
   "cell_type": "code",
   "execution_count": 87,
   "id": "5238ea35-08f6-4583-bb7f-d1a9eb59c3ba",
   "metadata": {},
   "outputs": [
    {
     "data": {
      "text/latex": [
       "$\\displaystyle \\left[\\begin{matrix}0 & 5 & 4\\\\4 & 0 & 2\\end{matrix}\\right]$"
      ],
      "text/plain": [
       "Matrix([\n",
       "[0, 5, 4],\n",
       "[4, 0, 2]])"
      ]
     },
     "execution_count": 87,
     "metadata": {},
     "output_type": "execute_result"
    }
   ],
   "source": [
    "A"
   ]
  },
  {
   "cell_type": "code",
   "execution_count": 93,
   "id": "3d57d99b-9eb4-4e2f-83dd-2074dd9a8cfe",
   "metadata": {},
   "outputs": [],
   "source": [
    "A=A.col_insert(1,Matrix([[9],[9]]))"
   ]
  },
  {
   "cell_type": "code",
   "execution_count": 95,
   "id": "02940c12-a040-4356-83d8-dac7c1483d35",
   "metadata": {},
   "outputs": [
    {
     "data": {
      "text/latex": [
       "$\\displaystyle \\left[\\begin{matrix}0 & 9 & 9 & 5 & 4\\\\4 & 9 & 9 & 0 & 2\\end{matrix}\\right]$"
      ],
      "text/plain": [
       "Matrix([\n",
       "[0, 9, 9, 5, 4],\n",
       "[4, 9, 9, 0, 2]])"
      ]
     },
     "execution_count": 95,
     "metadata": {},
     "output_type": "execute_result"
    }
   ],
   "source": [
    "A"
   ]
  },
  {
   "cell_type": "code",
   "execution_count": null,
   "id": "6fde4d3b-3da8-4b40-9d06-edee7d6f541c",
   "metadata": {},
   "outputs": [],
   "source": []
  }
 ],
 "metadata": {
  "kernelspec": {
   "display_name": "Python 3 (ipykernel)",
   "language": "python",
   "name": "python3"
  },
  "language_info": {
   "codemirror_mode": {
    "name": "ipython",
    "version": 3
   },
   "file_extension": ".py",
   "mimetype": "text/x-python",
   "name": "python",
   "nbconvert_exporter": "python",
   "pygments_lexer": "ipython3",
   "version": "3.12.4"
  }
 },
 "nbformat": 4,
 "nbformat_minor": 5
}
