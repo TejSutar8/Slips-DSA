{
 "cells": [
  {
   "cell_type": "raw",
   "id": "487eeb7c-c3b3-4be4-ba0c-d2aaf139712e",
   "metadata": {
    "vscode": {
     "languageId": "raw"
    }
   },
   "source": [
    "Name: Tej Santosh Sutar\n",
    "RollNo:176\n",
    "Class:S.Y B.Sc CS\n",
    "Batch:H\n",
    "Date:3/08/2024\n",
    "Practical No 2. Introduction to Python- Data Type-II"
   ]
  },
  {
   "cell_type": "code",
   "execution_count": 5,
   "id": "574f81b5-a502-4e21-8823-6c3d409a24c2",
   "metadata": {},
   "outputs": [
    {
     "name": "stdout",
     "output_type": "stream",
     "text": [
      "Hello\n"
     ]
    }
   ],
   "source": [
    "s = \"Hello\"\n",
    "print(s)"
   ]
  },
  {
   "cell_type": "code",
   "execution_count": 9,
   "id": "88ce6603-f087-4f9e-a7b1-9a039ecdc414",
   "metadata": {},
   "outputs": [
    {
     "name": "stdout",
     "output_type": "stream",
     "text": [
      "enter a number:  9\n"
     ]
    }
   ],
   "source": [
    "num=eval(input(\"enter a number: \"))"
   ]
  },
  {
   "cell_type": "code",
   "execution_count": 15,
   "id": "637f2c9e-4685-4f49-bf65-f37951ac85e6",
   "metadata": {},
   "outputs": [
    {
     "name": "stdout",
     "output_type": "stream",
     "text": [
      "enter a string : Hello\n"
     ]
    }
   ],
   "source": [
    "string=input(\"enter a string :\")"
   ]
  },
  {
   "cell_type": "code",
   "execution_count": 27,
   "id": "1426a410-97b9-4ba4-b2d7-57f1b1d6dd8b",
   "metadata": {},
   "outputs": [
    {
     "name": "stdout",
     "output_type": "stream",
     "text": [
      "6\n"
     ]
    }
   ],
   "source": [
    "L=len(\"Python\")\n",
    "print(L)"
   ]
  },
  {
   "cell_type": "code",
   "execution_count": 29,
   "id": "098feff1-b169-48e1-8124-59d041680c83",
   "metadata": {},
   "outputs": [
    {
     "name": "stdout",
     "output_type": "stream",
     "text": [
      "XYpy\n"
     ]
    }
   ],
   "source": [
    "a=\"XY\"+\"py\"\n",
    "print(a)"
   ]
  },
  {
   "cell_type": "code",
   "execution_count": 33,
   "id": "1a9f1c25-925e-4913-a31c-cc8642374efe",
   "metadata": {},
   "outputs": [
    {
     "name": "stdout",
     "output_type": "stream",
     "text": [
      "TEJ\n"
     ]
    }
   ],
   "source": [
    "b=\"T\"+\"E\"+\"J\"\n",
    "print(b)"
   ]
  },
  {
   "cell_type": "code",
   "execution_count": 45,
   "id": "90245831-5b11-4027-8d37-d1c5cf01b515",
   "metadata": {},
   "outputs": [
    {
     "name": "stdout",
     "output_type": "stream",
     "text": [
      "hello Tej hello Tej hello Tej hello Tej hello Tej hello Tej hello Tej hello Tej hello Tej \n"
     ]
    }
   ],
   "source": [
    "c =\"hello Tej \"*9\n",
    "print(c)"
   ]
  },
  {
   "cell_type": "code",
   "execution_count": 57,
   "id": "526ed17f-4b88-42c0-84fe-799a28fb402f",
   "metadata": {},
   "outputs": [
    {
     "name": "stdout",
     "output_type": "stream",
     "text": [
      "hello\n",
      "hello\n",
      "hello\n",
      "hello\n",
      "hello\n",
      "hello\n",
      "hello\n",
      "hello\n",
      "\n"
     ]
    }
   ],
   "source": [
    "c=(\"hello\"+\"\\n\")*8\n",
    "print(c)"
   ]
  },
  {
   "cell_type": "code",
   "execution_count": 73,
   "id": "0f91729f-9663-4b6b-858e-aa7e679bf846",
   "metadata": {},
   "outputs": [
    {
     "name": "stdout",
     "output_type": "stream",
     "text": [
      "y\n"
     ]
    }
   ],
   "source": [
    "s=\"python\"\n",
    "print(s[1])"
   ]
  },
  {
   "cell_type": "code",
   "execution_count": 79,
   "id": "9135dcb3-c40d-4f83-bd08-49300fb2edbc",
   "metadata": {},
   "outputs": [
    {
     "name": "stdout",
     "output_type": "stream",
     "text": [
      "t\n"
     ]
    }
   ],
   "source": [
    "print(s[2])"
   ]
  },
  {
   "cell_type": "code",
   "execution_count": 77,
   "id": "a14e0142-6648-4466-90fa-df89d03a8a86",
   "metadata": {},
   "outputs": [
    {
     "name": "stdout",
     "output_type": "stream",
     "text": [
      "h\n"
     ]
    }
   ],
   "source": [
    "print(s[3])"
   ]
  },
  {
   "cell_type": "code",
   "execution_count": 75,
   "id": "d6a7125d-ef70-47bc-9af4-35b42db137fb",
   "metadata": {},
   "outputs": [
    {
     "name": "stdout",
     "output_type": "stream",
     "text": [
      "o\n"
     ]
    }
   ],
   "source": [
    "print(s[-2])"
   ]
  },
  {
   "cell_type": "code",
   "execution_count": 85,
   "id": "508c9655-3560-417b-8e80-9c46e90e401d",
   "metadata": {},
   "outputs": [
    {
     "name": "stdout",
     "output_type": "stream",
     "text": [
      "H\n",
      "e\n",
      "d\n",
      " \n"
     ]
    }
   ],
   "source": [
    "s=\"Hello World\"\n",
    "print(s[0])\n",
    "print(s[1])\n",
    "print(s[-1])\n",
    "print(s[5])"
   ]
  },
  {
   "cell_type": "code",
   "execution_count": 98,
   "id": "90db5b40-0c3e-4fac-9631-15b0955ffe26",
   "metadata": {},
   "outputs": [
    {
     "name": "stdout",
     "output_type": "stream",
     "text": [
      "HelloWorld\n",
      "hahaha\n",
      "dh\n"
     ]
    }
   ],
   "source": [
    "a=\"Hello\"+\"World\"\n",
    "print(a)\n",
    "b=\"ha\"*3\n",
    "print(b)\n",
    "print(a[-1]+b[0])"
   ]
  },
  {
   "cell_type": "raw",
   "id": "b4f0e113-e7c7-414c-a8bf-7f27ae27ad54",
   "metadata": {},
   "source": [
    " 1.Use Python code to construct string operation ‘+’ below string.\n",
    "•\tstring1 = Hello, string2 = World!\n",
    "•\tstring1 = Good, string2 = Morning\n"
   ]
  },
  {
   "cell_type": "code",
   "execution_count": 9,
   "id": "5174c6cf-5f5f-4020-a1dd-c50cac71a849",
   "metadata": {},
   "outputs": [],
   "source": [
    "a=\"Hello\"\n",
    "b=\"World!\""
   ]
  },
  {
   "cell_type": "code",
   "execution_count": 15,
   "id": "cd676e1f-9b98-4d31-9971-60607b94fb30",
   "metadata": {},
   "outputs": [
    {
     "name": "stdout",
     "output_type": "stream",
     "text": [
      "HelloWorld!\n"
     ]
    }
   ],
   "source": [
    "print(a+b)"
   ]
  },
  {
   "cell_type": "code",
   "execution_count": 31,
   "id": "3e71e79a-14fa-469a-ac95-d1bfc96d2341",
   "metadata": {},
   "outputs": [
    {
     "name": "stdout",
     "output_type": "stream",
     "text": [
      "goodmorning\n"
     ]
    }
   ],
   "source": [
    "print(\"good\"+\"morning\")"
   ]
  },
  {
   "cell_type": "raw",
   "id": "245972ea-c1ac-4c81-a65e-74d5c918e7d4",
   "metadata": {},
   "source": [
    "2.\tWrite Python code to repeat the following string 9 times using the string operator ‘*’.\n",
    "a.\tPython\n",
    "b.\tMATLAB\n"
   ]
  },
  {
   "cell_type": "code",
   "execution_count": 57,
   "id": "37aa5639-8f7d-42c1-accf-e4fe81acc1e7",
   "metadata": {},
   "outputs": [],
   "source": [
    "s=\"python\""
   ]
  },
  {
   "cell_type": "code",
   "execution_count": 61,
   "id": "0d01b78c-e23e-4534-81e3-62901626e6f8",
   "metadata": {},
   "outputs": [
    {
     "name": "stdout",
     "output_type": "stream",
     "text": [
      "python\n",
      "python\n",
      "python\n",
      "python\n",
      "python\n",
      "python\n",
      "python\n",
      "python\n",
      "python\n",
      "\n"
     ]
    }
   ],
   "source": [
    "print((\"python\\n\")*9)"
   ]
  },
  {
   "cell_type": "code",
   "execution_count": 49,
   "id": "fe056300-f94f-4d80-b6b4-e2f74a6fedbf",
   "metadata": {},
   "outputs": [
    {
     "name": "stdout",
     "output_type": "stream",
     "text": [
      "MATLAB\n",
      "MATLAB\n",
      "MATLAB\n",
      "MATLAB\n",
      "MATLAB\n",
      "MATLAB\n",
      "MATLAB\n",
      "MATLAB\n",
      "MATLAB\n",
      "\n"
     ]
    }
   ],
   "source": [
    "print((\"MATLAB\\n\")*9)"
   ]
  },
  {
   "cell_type": "raw",
   "id": "066ba41d-3795-445c-96bf-6e8d49b6cf3a",
   "metadata": {},
   "source": [
    "3.\tTwo tuples are given:\n",
    "𝑡1 = ('m', 'u', 'm', 'b', 'a', 'i')\n",
    "𝑡2 = ('p', 'u', 'n', 'e')\n",
    "Show the result of evaluating each of the following string expressions.\n",
    "a) 𝑡1 [3]\n",
    "b) 𝑡2 [:4]\n",
    "c) 𝑡1 [1:] + 𝑡2 [:1]\n",
    "d) 𝑡1+𝑡2 [-1]\n",
    "e) 𝑡1+𝑡2\n",
    "f) 𝑡2*2\n"
   ]
  },
  {
   "cell_type": "code",
   "execution_count": 9,
   "id": "f4a46108-d103-4524-83f8-48984e22567a",
   "metadata": {},
   "outputs": [
    {
     "data": {
      "text/plain": [
       "('m', 'u', 'm', 'b', 'a', 'i')"
      ]
     },
     "execution_count": 9,
     "metadata": {},
     "output_type": "execute_result"
    }
   ],
   "source": [
    "t1=\"mumbai\"\n",
    "tuple(t1)"
   ]
  },
  {
   "cell_type": "code",
   "execution_count": 11,
   "id": "3d3faff3-f9af-4766-bc3d-797dee6f9d7f",
   "metadata": {},
   "outputs": [
    {
     "data": {
      "text/plain": [
       "('p', 'u', 'n', 'e')"
      ]
     },
     "execution_count": 11,
     "metadata": {},
     "output_type": "execute_result"
    }
   ],
   "source": [
    "t2=\"pune\"\n",
    "tuple(t2)"
   ]
  },
  {
   "cell_type": "code",
   "execution_count": 49,
   "id": "99cd4ad3-241d-44e7-95d9-7f71a2b7a883",
   "metadata": {},
   "outputs": [
    {
     "data": {
      "text/plain": [
       "'m'"
      ]
     },
     "execution_count": 49,
     "metadata": {},
     "output_type": "execute_result"
    }
   ],
   "source": [
    "t1[3]"
   ]
  },
  {
   "cell_type": "code",
   "execution_count": 51,
   "id": "27839428-03fc-455a-887d-e8342ed52929",
   "metadata": {},
   "outputs": [
    {
     "data": {
      "text/plain": [
       "'pune'"
      ]
     },
     "execution_count": 51,
     "metadata": {},
     "output_type": "execute_result"
    }
   ],
   "source": [
    "t2[:4]"
   ]
  },
  {
   "cell_type": "code",
   "execution_count": 53,
   "id": "d9638dde-d310-4000-9aa3-c68e1be52d7b",
   "metadata": {},
   "outputs": [
    {
     "data": {
      "text/plain": [
       "' am indianp'"
      ]
     },
     "execution_count": 53,
     "metadata": {},
     "output_type": "execute_result"
    }
   ],
   "source": [
    "𝑡1 [1:] + 𝑡2 [:1]"
   ]
  },
  {
   "cell_type": "code",
   "execution_count": 55,
   "id": "b552af7a-ec18-4450-9462-2b8b4b76bc4c",
   "metadata": {},
   "outputs": [
    {
     "data": {
      "text/plain": [
       "'I am indiane'"
      ]
     },
     "execution_count": 55,
     "metadata": {},
     "output_type": "execute_result"
    }
   ],
   "source": [
    "𝑡1+𝑡2 [-1]"
   ]
  },
  {
   "cell_type": "code",
   "execution_count": 57,
   "id": "85d6a7d6-9f23-41c2-911b-738de4d71c76",
   "metadata": {},
   "outputs": [
    {
     "data": {
      "text/plain": [
       "'I am indianpune'"
      ]
     },
     "execution_count": 57,
     "metadata": {},
     "output_type": "execute_result"
    }
   ],
   "source": [
    "𝑡1+𝑡2"
   ]
  },
  {
   "cell_type": "code",
   "execution_count": 59,
   "id": "9edd8dc7-76bc-4769-825f-1882a4b46ef4",
   "metadata": {},
   "outputs": [
    {
     "data": {
      "text/plain": [
       "'punepune'"
      ]
     },
     "execution_count": 59,
     "metadata": {},
     "output_type": "execute_result"
    }
   ],
   "source": [
    "𝑡2*2"
   ]
  },
  {
   "cell_type": "raw",
   "id": "5dab8997-7e7a-47bc-af76-9b6e32f98e15",
   "metadata": {},
   "source": [
    "Q4.\tFind the data type of the following data by using Python code.\n",
    "a. number\n",
    "b. 31.25\n",
    "c.\t8 + 4j\n",
    "d.\tMathematics\n",
    "e.\t49\n"
   ]
  },
  {
   "cell_type": "code",
   "execution_count": 61,
   "id": "62412ded-d35b-4606-afdd-57c12c3079af",
   "metadata": {},
   "outputs": [
    {
     "name": "stdout",
     "output_type": "stream",
     "text": [
      "<class 'int'>\n",
      "<class 'float'>\n",
      "<class 'complex'>\n",
      "<class 'str'>\n",
      "<class 'int'>\n"
     ]
    }
   ],
   "source": [
    "a=8\n",
    "b=31.25\n",
    "c=8+4j\n",
    "d=\"Mathematics\"\n",
    "e=49\n",
    "print((type(a)))\n",
    "print((type(b)))\n",
    "print((type(c)))\n",
    "print((type(d)))\n",
    "print((type(e)))"
   ]
  },
  {
   "cell_type": "raw",
   "id": "754f5bbe-797b-42c3-af14-4b132535534c",
   "metadata": {},
   "source": [
    "5.\tWrite python code to display tuple ‘I am Indian ’ and the second letter in this tuple."
   ]
  },
  {
   "cell_type": "code",
   "execution_count": 63,
   "id": "fae70820-1861-42de-8d4d-d0ad453447b4",
   "metadata": {},
   "outputs": [
    {
     "data": {
      "text/plain": [
       "('I', ' ', 'a', 'm', ' ', 'i', 'n', 'd', 'i', 'a', 'n')"
      ]
     },
     "execution_count": 63,
     "metadata": {},
     "output_type": "execute_result"
    }
   ],
   "source": [
    "t1=\"I am indian\"\n",
    "tuple(t1)"
   ]
  },
  {
   "cell_type": "code",
   "execution_count": 65,
   "id": "0bff7972-3eb3-4c01-887b-1de8a7c85754",
   "metadata": {},
   "outputs": [
    {
     "data": {
      "text/plain": [
       "'a'"
      ]
     },
     "execution_count": 65,
     "metadata": {},
     "output_type": "execute_result"
    }
   ],
   "source": [
    "t1[2]"
   ]
  },
  {
   "cell_type": "raw",
   "id": "47662138-9377-4b5e-a6f6-40ef65d8f7e1",
   "metadata": {},
   "source": [
    "6.\ti) Write Python code to find the tuple ‘MATHEMATICS’ from range 3 to 9.\n",
    "ii)Use Python code to generate second, fifth, eight characters from string ‘MATHEMATICS ’\n"
   ]
  },
  {
   "cell_type": "code",
   "execution_count": 67,
   "id": "a6ae0e0b-a4c8-464b-820e-aaa5a29ea764",
   "metadata": {},
   "outputs": [
    {
     "data": {
      "text/plain": [
       "('M', 'A', 'T', 'H', 'E', 'M', 'A', 'T', 'I', 'C', 'S')"
      ]
     },
     "execution_count": 67,
     "metadata": {},
     "output_type": "execute_result"
    }
   ],
   "source": [
    "a=\"MATHEMATICS\"\n",
    "tuple(a)"
   ]
  },
  {
   "cell_type": "code",
   "execution_count": 69,
   "id": "9ba15200-db4b-4bca-a42b-7407d7dd0ff9",
   "metadata": {},
   "outputs": [
    {
     "data": {
      "text/plain": [
       "'HEMATI'"
      ]
     },
     "execution_count": 69,
     "metadata": {},
     "output_type": "execute_result"
    }
   ],
   "source": [
    "a[3:9]"
   ]
  },
  {
   "cell_type": "raw",
   "id": "f7a7a374-de01-49c6-a796-9063a4a21398",
   "metadata": {},
   "source": [
    "2)"
   ]
  },
  {
   "cell_type": "code",
   "execution_count": 71,
   "id": "ac024a3f-117d-4bde-a34f-657129021ee3",
   "metadata": {},
   "outputs": [
    {
     "data": {
      "text/plain": [
       "'T'"
      ]
     },
     "execution_count": 71,
     "metadata": {},
     "output_type": "execute_result"
    }
   ],
   "source": [
    "a[2]"
   ]
  },
  {
   "cell_type": "code",
   "execution_count": 72,
   "id": "d52f4d25-62c8-4cd9-b606-d00cf75ca82c",
   "metadata": {},
   "outputs": [
    {
     "data": {
      "text/plain": [
       "'M'"
      ]
     },
     "execution_count": 72,
     "metadata": {},
     "output_type": "execute_result"
    }
   ],
   "source": [
    "a[5]"
   ]
  },
  {
   "cell_type": "code",
   "execution_count": 73,
   "id": "102c42bb-0f12-4abf-b184-acdb85b314fa",
   "metadata": {},
   "outputs": [
    {
     "data": {
      "text/plain": [
       "'I'"
      ]
     },
     "execution_count": 73,
     "metadata": {},
     "output_type": "execute_result"
    }
   ],
   "source": [
    "a[8]"
   ]
  },
  {
   "cell_type": "raw",
   "id": "849cd687-1bf5-4e46-8930-38d4ec3f0722",
   "metadata": {},
   "source": [
    "7.\t Write python program which deals with concatenation and repetition of lists. \n",
    "List1 = [15, 20, 25, 30, 35, 40]\n",
    "List2 = [7, 14, 21, 28, 35, 42]\n",
    "•\tFind List1 + List2\n",
    "•\tFind 9*List1\n",
    "•\tFind 7*List2\n"
   ]
  },
  {
   "cell_type": "code",
   "execution_count": 108,
   "id": "bb002ae5-2fd3-475a-832c-64a69a67e245",
   "metadata": {},
   "outputs": [],
   "source": [
    "list1 = [15, 20, 25, 30, 35, 40]\n",
    "list2 = [7, 14, 21, 28, 35, 42]"
   ]
  },
  {
   "cell_type": "code",
   "execution_count": 110,
   "id": "71321a44-23eb-4453-95d9-908f86c04938",
   "metadata": {},
   "outputs": [
    {
     "data": {
      "text/plain": [
       "[15, 20, 25, 30, 35, 40, 7, 14, 21, 28, 35, 42]"
      ]
     },
     "execution_count": 110,
     "metadata": {},
     "output_type": "execute_result"
    }
   ],
   "source": [
    "list1+list2"
   ]
  },
  {
   "cell_type": "code",
   "execution_count": 112,
   "id": "a85c564b-6c9b-4cb5-b9bd-560474c7e106",
   "metadata": {},
   "outputs": [
    {
     "data": {
      "text/plain": [
       "[15,\n",
       " 20,\n",
       " 25,\n",
       " 30,\n",
       " 35,\n",
       " 40,\n",
       " 15,\n",
       " 20,\n",
       " 25,\n",
       " 30,\n",
       " 35,\n",
       " 40,\n",
       " 15,\n",
       " 20,\n",
       " 25,\n",
       " 30,\n",
       " 35,\n",
       " 40,\n",
       " 15,\n",
       " 20,\n",
       " 25,\n",
       " 30,\n",
       " 35,\n",
       " 40,\n",
       " 15,\n",
       " 20,\n",
       " 25,\n",
       " 30,\n",
       " 35,\n",
       " 40,\n",
       " 15,\n",
       " 20,\n",
       " 25,\n",
       " 30,\n",
       " 35,\n",
       " 40,\n",
       " 15,\n",
       " 20,\n",
       " 25,\n",
       " 30,\n",
       " 35,\n",
       " 40,\n",
       " 15,\n",
       " 20,\n",
       " 25,\n",
       " 30,\n",
       " 35,\n",
       " 40,\n",
       " 15,\n",
       " 20,\n",
       " 25,\n",
       " 30,\n",
       " 35,\n",
       " 40]"
      ]
     },
     "execution_count": 112,
     "metadata": {},
     "output_type": "execute_result"
    }
   ],
   "source": [
    "9*list1"
   ]
  },
  {
   "cell_type": "code",
   "execution_count": 118,
   "id": "a39e38ac-d318-4c40-8559-8b4554f1ad2f",
   "metadata": {},
   "outputs": [
    {
     "data": {
      "text/plain": [
       "[7,\n",
       " 14,\n",
       " 21,\n",
       " 28,\n",
       " 35,\n",
       " 42,\n",
       " 7,\n",
       " 14,\n",
       " 21,\n",
       " 28,\n",
       " 35,\n",
       " 42,\n",
       " 7,\n",
       " 14,\n",
       " 21,\n",
       " 28,\n",
       " 35,\n",
       " 42,\n",
       " 7,\n",
       " 14,\n",
       " 21,\n",
       " 28,\n",
       " 35,\n",
       " 42,\n",
       " 7,\n",
       " 14,\n",
       " 21,\n",
       " 28,\n",
       " 35,\n",
       " 42,\n",
       " 7,\n",
       " 14,\n",
       " 21,\n",
       " 28,\n",
       " 35,\n",
       " 42,\n",
       " 7,\n",
       " 14,\n",
       " 21,\n",
       " 28,\n",
       " 35,\n",
       " 42]"
      ]
     },
     "execution_count": 118,
     "metadata": {},
     "output_type": "execute_result"
    }
   ],
   "source": [
    "7*list2"
   ]
  },
  {
   "cell_type": "code",
   "execution_count": 120,
   "id": "d9ad9548-4a7b-45db-80bc-1fe234e4992b",
   "metadata": {},
   "outputs": [
    {
     "name": "stdout",
     "output_type": "stream",
     "text": [
      "[15, 20, 25, 30, 35, 40, 15, 20, 25, 30, 35, 40, 15, 20, 25, 30, 35, 40, 15, 20, 25, 30, 35, 40, 15, 20, 25, 30, 35, 40, 15, 20, 25, 30, 35, 40, 15, 20, 25, 30, 35, 40, 15, 20, 25, 30, 35, 40, 15, 20, 25, 30, 35, 40]\n"
     ]
    }
   ],
   "source": [
    "print((list1)*9)"
   ]
  },
  {
   "cell_type": "code",
   "execution_count": 124,
   "id": "5e809c6e-d1c8-41da-8bfd-5fb4a5c57f02",
   "metadata": {},
   "outputs": [
    {
     "name": "stdout",
     "output_type": "stream",
     "text": [
      "[7, 14, 21, 28, 35, 42, 7, 14, 21, 28, 35, 42, 7, 14, 21, 28, 35, 42, 7, 14, 21, 28, 35, 42, 7, 14, 21, 28, 35, 42, 7, 14, 21, 28, 35, 42, 7, 14, 21, 28, 35, 42]\n"
     ]
    }
   ],
   "source": [
    "print((list2)*7)"
   ]
  },
  {
   "cell_type": "raw",
   "id": "2926f140-9f33-4f6e-b91e-5f86cc8b8ac9",
   "metadata": {},
   "source": [
    "8.\tWrite Python code to reverse the string \n",
    "S=[3,4,5,6,7,8,9,10,11,12,13]"
   ]
  },
  {
   "cell_type": "code",
   "execution_count": 145,
   "id": "b7729fef-9d1b-4327-8c8d-18102b023cd3",
   "metadata": {},
   "outputs": [
    {
     "name": "stdout",
     "output_type": "stream",
     "text": [
      "[13, 12, 11, 10, 9, 8, 7, 6, 5, 4, 3]\n"
     ]
    }
   ],
   "source": [
    "S=[3,4,5,6,7,8,9,10,11,12,13]\n",
    "S.sort(reverse=True)\n",
    "print(S)"
   ]
  },
  {
   "cell_type": "raw",
   "id": "f55651db-522e-4465-af41-2aa91c6b6e67",
   "metadata": {},
   "source": [
    "9.\tWrite Python code to sort the list in ascending the \n",
    "S=[6,3,5,12,11,10]"
   ]
  },
  {
   "cell_type": "code",
   "execution_count": 153,
   "id": "b5b1f293-065d-44ec-81fd-acee9bce1a9d",
   "metadata": {},
   "outputs": [
    {
     "data": {
      "text/plain": [
       "(3, 5, 6, 10, 11, 12)"
      ]
     },
     "execution_count": 153,
     "metadata": {},
     "output_type": "execute_result"
    }
   ],
   "source": [
    "a=[6,3,5,12,11,10]\n",
    "tuple(sorted(list(a)))"
   ]
  },
  {
   "cell_type": "raw",
   "id": "04ed85e7-3a72-4db3-a5d9-2223a59a7cac",
   "metadata": {},
   "source": [
    "10.\t\n",
    "i)Using python code sort the tuple in ascending and \n",
    "descending order \n",
    "5, -3, 0, 1, 6,-6, 2\n",
    "            \n"
   ]
  },
  {
   "cell_type": "code",
   "execution_count": 159,
   "id": "576f937c-d553-48b3-b20a-8171cc78b20a",
   "metadata": {},
   "outputs": [
    {
     "data": {
      "text/plain": [
       "(-6, -3, 0, 1, 2, 5, 6)"
      ]
     },
     "execution_count": 159,
     "metadata": {},
     "output_type": "execute_result"
    }
   ],
   "source": [
    "a=[5, -3, 0, 1, 6,-6, 2]\n",
    "tuple(sorted(list(a)))"
   ]
  },
  {
   "cell_type": "code",
   "execution_count": 163,
   "id": "d4c4a114-67de-4879-9e1a-3c1830e5a540",
   "metadata": {},
   "outputs": [
    {
     "name": "stdout",
     "output_type": "stream",
     "text": [
      "(6, 5, 2, 1, 0, -3, -6)\n"
     ]
    }
   ],
   "source": [
    "b=[5, -3, 0, 1, 6,-6, 2]\n",
    "b=list(b)\n",
    "b.sort(reverse=True)\n",
    "b=tuple(b)\n",
    "print(b)"
   ]
  },
  {
   "cell_type": "raw",
   "id": "a199460b-686c-4eaa-860e-c89c16a2bf6e",
   "metadata": {},
   "source": [
    "ii) Write Python code to find maximum and minimum element in the given list\n",
    "[7, 8, 71, 32, 49, −5, 7, 17, 0, 1, 6]\n"
   ]
  },
  {
   "cell_type": "code",
   "execution_count": 179,
   "id": "e0050778-4c00-4733-9a92-07804ce3e77b",
   "metadata": {},
   "outputs": [
    {
     "data": {
      "text/plain": [
       "-5"
      ]
     },
     "execution_count": 179,
     "metadata": {},
     "output_type": "execute_result"
    }
   ],
   "source": [
    "min([7, 8, 71, 32, 49,-5, 7, 17, 0, 1, 6])\n"
   ]
  },
  {
   "cell_type": "code",
   "execution_count": 181,
   "id": "61e96ca2-edc9-4845-a062-87945aa9c9df",
   "metadata": {},
   "outputs": [
    {
     "data": {
      "text/plain": [
       "71"
      ]
     },
     "execution_count": 181,
     "metadata": {},
     "output_type": "execute_result"
    }
   ],
   "source": [
    "max([7, 8, 71, 32, 49,-5, 7, 17, 0, 1, 6])\n"
   ]
  },
  {
   "cell_type": "raw",
   "id": "4107f3f2-27b5-4833-ad9d-e5d4247ffd9c",
   "metadata": {},
   "source": [
    "11.\tEvaluate following expression on Python.\n",
    "•\tM =[1,2,3,4], Find length M.\n",
    "•\tL=“XYZ”+“pqr”, Find L.\n",
    "•\ts=‘Make In India’, Find (s[:7]) & (s[:9]).\n"
   ]
  },
  {
   "cell_type": "code",
   "execution_count": 183,
   "id": "09f42c1c-6390-4a76-8f39-747a2c7abafc",
   "metadata": {},
   "outputs": [
    {
     "name": "stdout",
     "output_type": "stream",
     "text": [
      "4\n"
     ]
    }
   ],
   "source": [
    "m=[1,2,3,4]\n",
    "l=len(m)\n",
    "print(l)"
   ]
  },
  {
   "cell_type": "code",
   "execution_count": 187,
   "id": "a620eac6-d01f-42ab-b37a-dcc38607e9fd",
   "metadata": {},
   "outputs": [
    {
     "name": "stdout",
     "output_type": "stream",
     "text": [
      "xyzpqr\n"
     ]
    }
   ],
   "source": [
    "l=\"xyz\"+\"pqr\"\n",
    "print(l)"
   ]
  },
  {
   "cell_type": "code",
   "execution_count": 191,
   "id": "b10a7255-401d-4fba-8f07-c337b44388f4",
   "metadata": {},
   "outputs": [
    {
     "data": {
      "text/plain": [
       "'make in'"
      ]
     },
     "execution_count": 191,
     "metadata": {},
     "output_type": "execute_result"
    }
   ],
   "source": [
    "s=\"make in india\"\n",
    "s[:7]\n"
   ]
  },
  {
   "cell_type": "code",
   "execution_count": 193,
   "id": "e636831e-5866-455a-b2c2-0d5033ef3c91",
   "metadata": {},
   "outputs": [
    {
     "data": {
      "text/plain": [
       "'make in i'"
      ]
     },
     "execution_count": 193,
     "metadata": {},
     "output_type": "execute_result"
    }
   ],
   "source": [
    "s[:9]"
   ]
  },
  {
   "cell_type": "code",
   "execution_count": null,
   "id": "c8b22a9c-078b-4785-87bd-46c480a2df24",
   "metadata": {},
   "outputs": [],
   "source": []
  }
 ],
 "metadata": {
  "kernelspec": {
   "display_name": "Python 3 (ipykernel)",
   "language": "python",
   "name": "python3"
  },
  "language_info": {
   "codemirror_mode": {
    "name": "ipython",
    "version": 3
   },
   "file_extension": ".py",
   "mimetype": "text/x-python",
   "name": "python",
   "nbconvert_exporter": "python",
   "pygments_lexer": "ipython3",
   "version": "3.12.4"
  }
 },
 "nbformat": 4,
 "nbformat_minor": 5
}
